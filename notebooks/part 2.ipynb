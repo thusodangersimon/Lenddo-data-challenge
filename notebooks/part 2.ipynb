{
 "cells": [
  {
   "cell_type": "code",
   "execution_count": 1,
   "metadata": {},
   "outputs": [
    {
     "name": "stderr",
     "output_type": "stream",
     "text": [
      "/opt/conda/lib/python3.7/site-packages/dask/dataframe/utils.py:15: FutureWarning: pandas.util.testing is deprecated. Use the functions in the public API at pandas.testing instead.\n",
      "  import pandas.util.testing as tm\n"
     ]
    }
   ],
   "source": [
    "import matplotlib.pyplot as plt\n",
    "import numpy as np\n",
    "import pandas as pd\n",
    "import seaborn as sns\n",
    "sns.set(style=\"white\", palette=\"muted\", color_codes=True)\n",
    "\n",
    "from sklearn import metrics,linear_model,feature_selection,preprocessing,decomposition, model_selection, ensemble\n",
    "\n",
    "from imblearn.pipeline import Pipeline\n",
    "from sklearn.pipeline import FeatureUnion\n",
    "from sklearn.compose import ColumnTransformer\n",
    "from sklearn import calibration\n",
    "\n",
    "from imblearn import under_sampling,over_sampling\n",
    "\n",
    "import category_encoders as ce\n",
    "\n",
    "from xgboost import XGBClassifier\n",
    "import pickle\n",
    "\n",
    "\n",
    "from skopt.space import Space,Real, Integer,Categorical\n",
    "from skopt.utils import use_named_args\n",
    "from skopt.optimizer import gp_minimize\n",
    "\n",
    "%load_ext autoreload\n",
    "%autoreload 2\n",
    "%matplotlib inline"
   ]
  },
  {
   "cell_type": "code",
   "execution_count": 2,
   "metadata": {},
   "outputs": [],
   "source": [
    "# functions for later\n",
    "def to_named_params(space, params):\n",
    "    return {dimension.name: param for dimension, param in zip(space, params)}"
   ]
  },
  {
   "cell_type": "code",
   "execution_count": 3,
   "metadata": {},
   "outputs": [
    {
     "data": {
      "text/html": [
       "<div>\n",
       "<style scoped>\n",
       "    .dataframe tbody tr th:only-of-type {\n",
       "        vertical-align: middle;\n",
       "    }\n",
       "\n",
       "    .dataframe tbody tr th {\n",
       "        vertical-align: top;\n",
       "    }\n",
       "\n",
       "    .dataframe thead th {\n",
       "        text-align: right;\n",
       "    }\n",
       "</style>\n",
       "<table border=\"1\" class=\"dataframe\">\n",
       "  <thead>\n",
       "    <tr style=\"text-align: right;\">\n",
       "      <th></th>\n",
       "      <th>Fold</th>\n",
       "      <th>Target</th>\n",
       "      <th>Var4</th>\n",
       "      <th>Var5</th>\n",
       "      <th>Var6</th>\n",
       "      <th>Var7</th>\n",
       "      <th>Var8</th>\n",
       "      <th>Var9</th>\n",
       "      <th>Var10</th>\n",
       "      <th>Var11</th>\n",
       "      <th>...</th>\n",
       "      <th>Var154</th>\n",
       "      <th>Var155</th>\n",
       "      <th>Var156</th>\n",
       "      <th>Var157</th>\n",
       "      <th>Var158</th>\n",
       "      <th>Var159</th>\n",
       "      <th>Var160</th>\n",
       "      <th>Var161</th>\n",
       "      <th>Var162</th>\n",
       "      <th>Var163</th>\n",
       "    </tr>\n",
       "    <tr>\n",
       "      <th>ID</th>\n",
       "      <th></th>\n",
       "      <th></th>\n",
       "      <th></th>\n",
       "      <th></th>\n",
       "      <th></th>\n",
       "      <th></th>\n",
       "      <th></th>\n",
       "      <th></th>\n",
       "      <th></th>\n",
       "      <th></th>\n",
       "      <th></th>\n",
       "      <th></th>\n",
       "      <th></th>\n",
       "      <th></th>\n",
       "      <th></th>\n",
       "      <th></th>\n",
       "      <th></th>\n",
       "      <th></th>\n",
       "      <th></th>\n",
       "      <th></th>\n",
       "      <th></th>\n",
       "    </tr>\n",
       "  </thead>\n",
       "  <tbody>\n",
       "    <tr>\n",
       "      <th>1</th>\n",
       "      <td>IS</td>\n",
       "      <td>0</td>\n",
       "      <td>40</td>\n",
       "      <td>3</td>\n",
       "      <td>1</td>\n",
       "      <td>5304.570</td>\n",
       "      <td>0</td>\n",
       "      <td>18.609524</td>\n",
       "      <td>8</td>\n",
       "      <td>1</td>\n",
       "      <td>...</td>\n",
       "      <td>0</td>\n",
       "      <td>0</td>\n",
       "      <td>0</td>\n",
       "      <td>1</td>\n",
       "      <td>0</td>\n",
       "      <td>0</td>\n",
       "      <td>0</td>\n",
       "      <td>53.04570</td>\n",
       "      <td>1</td>\n",
       "      <td>6</td>\n",
       "    </tr>\n",
       "    <tr>\n",
       "      <th>2</th>\n",
       "      <td>IS</td>\n",
       "      <td>0</td>\n",
       "      <td>26</td>\n",
       "      <td>4</td>\n",
       "      <td>1</td>\n",
       "      <td>884.095</td>\n",
       "      <td>0</td>\n",
       "      <td>25.970874</td>\n",
       "      <td>13</td>\n",
       "      <td>1</td>\n",
       "      <td>...</td>\n",
       "      <td>0</td>\n",
       "      <td>0</td>\n",
       "      <td>0</td>\n",
       "      <td>0</td>\n",
       "      <td>0</td>\n",
       "      <td>0</td>\n",
       "      <td>0</td>\n",
       "      <td>884.09500</td>\n",
       "      <td>3</td>\n",
       "      <td>5</td>\n",
       "    </tr>\n",
       "    <tr>\n",
       "      <th>3</th>\n",
       "      <td>IS</td>\n",
       "      <td>0</td>\n",
       "      <td>30</td>\n",
       "      <td>2</td>\n",
       "      <td>1</td>\n",
       "      <td>3536.380</td>\n",
       "      <td>0</td>\n",
       "      <td>25.686275</td>\n",
       "      <td>46</td>\n",
       "      <td>1</td>\n",
       "      <td>...</td>\n",
       "      <td>0</td>\n",
       "      <td>0</td>\n",
       "      <td>0</td>\n",
       "      <td>1</td>\n",
       "      <td>0</td>\n",
       "      <td>0</td>\n",
       "      <td>0</td>\n",
       "      <td>88.40950</td>\n",
       "      <td>1</td>\n",
       "      <td>0</td>\n",
       "    </tr>\n",
       "    <tr>\n",
       "      <th>4</th>\n",
       "      <td>IS</td>\n",
       "      <td>0</td>\n",
       "      <td>52</td>\n",
       "      <td>1</td>\n",
       "      <td>1</td>\n",
       "      <td>884.095</td>\n",
       "      <td>0</td>\n",
       "      <td>18.019608</td>\n",
       "      <td>17</td>\n",
       "      <td>1</td>\n",
       "      <td>...</td>\n",
       "      <td>0</td>\n",
       "      <td>0</td>\n",
       "      <td>0</td>\n",
       "      <td>0</td>\n",
       "      <td>0</td>\n",
       "      <td>0</td>\n",
       "      <td>0</td>\n",
       "      <td>353.63800</td>\n",
       "      <td>7</td>\n",
       "      <td>2</td>\n",
       "    </tr>\n",
       "    <tr>\n",
       "      <th>5</th>\n",
       "      <td>IS</td>\n",
       "      <td>0</td>\n",
       "      <td>31</td>\n",
       "      <td>2</td>\n",
       "      <td>1</td>\n",
       "      <td>9725.045</td>\n",
       "      <td>0</td>\n",
       "      <td>28.666667</td>\n",
       "      <td>24</td>\n",
       "      <td>0</td>\n",
       "      <td>...</td>\n",
       "      <td>0</td>\n",
       "      <td>0</td>\n",
       "      <td>0</td>\n",
       "      <td>0</td>\n",
       "      <td>0</td>\n",
       "      <td>0</td>\n",
       "      <td>0</td>\n",
       "      <td>8.84095</td>\n",
       "      <td>9</td>\n",
       "      <td>3</td>\n",
       "    </tr>\n",
       "  </tbody>\n",
       "</table>\n",
       "<p>5 rows × 162 columns</p>\n",
       "</div>"
      ],
      "text/plain": [
       "   Fold  Target  Var4  Var5  Var6      Var7  Var8       Var9  Var10  Var11  \\\n",
       "ID                                                                           \n",
       "1    IS       0    40     3     1  5304.570     0  18.609524      8      1   \n",
       "2    IS       0    26     4     1   884.095     0  25.970874     13      1   \n",
       "3    IS       0    30     2     1  3536.380     0  25.686275     46      1   \n",
       "4    IS       0    52     1     1   884.095     0  18.019608     17      1   \n",
       "5    IS       0    31     2     1  9725.045     0  28.666667     24      0   \n",
       "\n",
       "    ...  Var154  Var155  Var156  Var157  Var158  Var159  Var160     Var161  \\\n",
       "ID  ...                                                                      \n",
       "1   ...       0       0       0       1       0       0       0   53.04570   \n",
       "2   ...       0       0       0       0       0       0       0  884.09500   \n",
       "3   ...       0       0       0       1       0       0       0   88.40950   \n",
       "4   ...       0       0       0       0       0       0       0  353.63800   \n",
       "5   ...       0       0       0       0       0       0       0    8.84095   \n",
       "\n",
       "    Var162  Var163  \n",
       "ID                  \n",
       "1        1       6  \n",
       "2        3       5  \n",
       "3        1       0  \n",
       "4        7       2  \n",
       "5        9       3  \n",
       "\n",
       "[5 rows x 162 columns]"
      ]
     },
     "execution_count": 3,
     "metadata": {},
     "output_type": "execute_result"
    }
   ],
   "source": [
    "# load data\n",
    "loan_df = pd.read_csv('../data/Ex2 - Data sample.csv')\n",
    "loan_df = loan_df.drop(columns=['Unnamed: 0']).set_index('ID')\n",
    "loan_df.head()"
   ]
  },
  {
   "cell_type": "code",
   "execution_count": 4,
   "metadata": {},
   "outputs": [
    {
     "data": {
      "text/plain": [
       "Index([], dtype='object')"
      ]
     },
     "execution_count": 4,
     "metadata": {},
     "output_type": "execute_result"
    }
   ],
   "source": [
    "# check for nulls\n",
    "loan_df.columns[loan_df.isna().sum(0)>0]"
   ]
  },
  {
   "cell_type": "code",
   "execution_count": 5,
   "metadata": {},
   "outputs": [
    {
     "data": {
      "text/html": [
       "<div>\n",
       "<style scoped>\n",
       "    .dataframe tbody tr th:only-of-type {\n",
       "        vertical-align: middle;\n",
       "    }\n",
       "\n",
       "    .dataframe tbody tr th {\n",
       "        vertical-align: top;\n",
       "    }\n",
       "\n",
       "    .dataframe thead th {\n",
       "        text-align: right;\n",
       "    }\n",
       "</style>\n",
       "<table border=\"1\" class=\"dataframe\">\n",
       "  <thead>\n",
       "    <tr style=\"text-align: right;\">\n",
       "      <th></th>\n",
       "      <th>Var</th>\n",
       "      <th>Type</th>\n",
       "    </tr>\n",
       "  </thead>\n",
       "  <tbody>\n",
       "    <tr>\n",
       "      <th>0</th>\n",
       "      <td>ID</td>\n",
       "      <td>Id variable</td>\n",
       "    </tr>\n",
       "    <tr>\n",
       "      <th>1</th>\n",
       "      <td>Fold</td>\n",
       "      <td>Fold variable (IS/OS)</td>\n",
       "    </tr>\n",
       "    <tr>\n",
       "      <th>2</th>\n",
       "      <td>Target</td>\n",
       "      <td>Dependent variable (0/1)</td>\n",
       "    </tr>\n",
       "    <tr>\n",
       "      <th>3</th>\n",
       "      <td>Var4</td>\n",
       "      <td>Continuous</td>\n",
       "    </tr>\n",
       "    <tr>\n",
       "      <th>4</th>\n",
       "      <td>Var5</td>\n",
       "      <td>Categorical Ordinal</td>\n",
       "    </tr>\n",
       "  </tbody>\n",
       "</table>\n",
       "</div>"
      ],
      "text/plain": [
       "      Var                      Type\n",
       "0      ID               Id variable\n",
       "1    Fold     Fold variable (IS/OS)\n",
       "2  Target  Dependent variable (0/1)\n",
       "3    Var4                Continuous\n",
       "4    Var5       Categorical Ordinal"
      ]
     },
     "execution_count": 5,
     "metadata": {},
     "output_type": "execute_result"
    }
   ],
   "source": [
    "# load varaible types\n",
    "colum_types = pd.read_excel('../data/Ex2 - Dictionary.xlsx')\n",
    "colum_types.head()                         "
   ]
  },
  {
   "cell_type": "code",
   "execution_count": 6,
   "metadata": {},
   "outputs": [
    {
     "data": {
      "text/plain": [
       "Type\n",
       "Categorical Nominal          9\n",
       "Categorical Ordinal         49\n",
       "Continuous                  33\n",
       "Dependent variable (0/1)     1\n",
       "Dummy                       69\n",
       "Fold variable (IS/OS)        1\n",
       "Id variable                  1\n",
       "Name: Var, dtype: int64"
      ]
     },
     "execution_count": 6,
     "metadata": {},
     "output_type": "execute_result"
    }
   ],
   "source": [
    "colum_types.groupby('Type').Var.count()"
   ]
  },
  {
   "cell_type": "code",
   "execution_count": 7,
   "metadata": {},
   "outputs": [
    {
     "data": {
      "text/plain": [
       "{'Continuous': array(['Var4', 'Var7', 'Var9', 'Var10', 'Var13', 'Var14', 'Var20',\n",
       "        'Var21', 'Var22', 'Var24', 'Var25', 'Var28', 'Var35', 'Var44',\n",
       "        'Var54', 'Var55', 'Var56', 'Var57', 'Var72', 'Var73', 'Var81',\n",
       "        'Var82', 'Var83', 'Var84', 'Var85', 'Var95', 'Var114', 'Var129',\n",
       "        'Var130', 'Var131', 'Var136', 'Var161', 'Var163'], dtype=object),\n",
       " 'Categorical Ordinal': array(['Var5', 'Var29', 'Var30', 'Var32', 'Var34', 'Var45', 'Var46',\n",
       "        'Var47', 'Var48', 'Var49', 'Var50', 'Var51', 'Var60', 'Var70',\n",
       "        'Var71', 'Var74', 'Var75', 'Var76', 'Var77', 'Var78', 'Var79',\n",
       "        'Var80', 'Var86', 'Var87', 'Var88', 'Var89', 'Var90', 'Var91',\n",
       "        'Var105', 'Var106', 'Var107', 'Var108', 'Var109', 'Var110',\n",
       "        'Var111', 'Var112', 'Var113', 'Var116', 'Var117', 'Var118',\n",
       "        'Var119', 'Var120', 'Var121', 'Var122', 'Var123', 'Var124',\n",
       "        'Var125', 'Var135', 'Var143'], dtype=object),\n",
       " 'Dummy': array(['Var6', 'Var8', 'Var11', 'Var12', 'Var15', 'Var16', 'Var17',\n",
       "        'Var18', 'Var31', 'Var33', 'Var36', 'Var37', 'Var38', 'Var39',\n",
       "        'Var40', 'Var41', 'Var42', 'Var43', 'Var52', 'Var53', 'Var58',\n",
       "        'Var59', 'Var61', 'Var62', 'Var63', 'Var64', 'Var65', 'Var66',\n",
       "        'Var67', 'Var69', 'Var92', 'Var94', 'Var96', 'Var97', 'Var98',\n",
       "        'Var99', 'Var100', 'Var101', 'Var102', 'Var103', 'Var104',\n",
       "        'Var115', 'Var126', 'Var127', 'Var128', 'Var132', 'Var137',\n",
       "        'Var138', 'Var139', 'Var140', 'Var141', 'Var142', 'Var144',\n",
       "        'Var145', 'Var146', 'Var147', 'Var148', 'Var149', 'Var150',\n",
       "        'Var151', 'Var152', 'Var153', 'Var154', 'Var155', 'Var156',\n",
       "        'Var157', 'Var158', 'Var159', 'Var160'], dtype=object),\n",
       " 'Categorical Nominal': array(['Var19', 'Var23', 'Var26', 'Var27', 'Var68', 'Var93', 'Var133',\n",
       "        'Var134', 'Var162'], dtype=object)}"
      ]
     },
     "execution_count": 7,
     "metadata": {},
     "output_type": "execute_result"
    }
   ],
   "source": [
    "# create type col grouper\n",
    "col_type = dict()\n",
    "for Type in colum_types['Type'].unique():\n",
    "    col_type[Type] = colum_types.query(f'Type == \"{Type}\"').Var.values\n",
    "# remove not features dtypes\n",
    "for Type in ['Id variable', 'Fold variable (IS/OS)','Dependent variable (0/1)']:\n",
    "    col_type.pop(Type)\n",
    "col_type"
   ]
  },
  {
   "cell_type": "code",
   "execution_count": 8,
   "metadata": {},
   "outputs": [
    {
     "data": {
      "text/html": [
       "<div>\n",
       "<style scoped>\n",
       "    .dataframe tbody tr th:only-of-type {\n",
       "        vertical-align: middle;\n",
       "    }\n",
       "\n",
       "    .dataframe tbody tr th {\n",
       "        vertical-align: top;\n",
       "    }\n",
       "\n",
       "    .dataframe thead th {\n",
       "        text-align: right;\n",
       "    }\n",
       "</style>\n",
       "<table border=\"1\" class=\"dataframe\">\n",
       "  <thead>\n",
       "    <tr style=\"text-align: right;\">\n",
       "      <th></th>\n",
       "      <th>Var4</th>\n",
       "      <th>Var7</th>\n",
       "      <th>Var9</th>\n",
       "      <th>Var10</th>\n",
       "      <th>Var13</th>\n",
       "      <th>Var14</th>\n",
       "      <th>Var20</th>\n",
       "      <th>Var21</th>\n",
       "      <th>Var22</th>\n",
       "      <th>Var24</th>\n",
       "      <th>...</th>\n",
       "      <th>Var84</th>\n",
       "      <th>Var85</th>\n",
       "      <th>Var95</th>\n",
       "      <th>Var114</th>\n",
       "      <th>Var129</th>\n",
       "      <th>Var130</th>\n",
       "      <th>Var131</th>\n",
       "      <th>Var136</th>\n",
       "      <th>Var161</th>\n",
       "      <th>Var163</th>\n",
       "    </tr>\n",
       "  </thead>\n",
       "  <tbody>\n",
       "    <tr>\n",
       "      <th>count</th>\n",
       "      <td>13015.000000</td>\n",
       "      <td>13015.000000</td>\n",
       "      <td>13015.000000</td>\n",
       "      <td>13015.000000</td>\n",
       "      <td>13015.000000</td>\n",
       "      <td>13015.000000</td>\n",
       "      <td>13015.0</td>\n",
       "      <td>13015.000000</td>\n",
       "      <td>13015.000000</td>\n",
       "      <td>13015.000000</td>\n",
       "      <td>...</td>\n",
       "      <td>13015.000000</td>\n",
       "      <td>13015.000000</td>\n",
       "      <td>13015.000000</td>\n",
       "      <td>13015.000000</td>\n",
       "      <td>13015.000000</td>\n",
       "      <td>13015.000000</td>\n",
       "      <td>13015.000000</td>\n",
       "      <td>13015.000000</td>\n",
       "      <td>13015.000000</td>\n",
       "      <td>13015.000000</td>\n",
       "    </tr>\n",
       "    <tr>\n",
       "      <th>mean</th>\n",
       "      <td>38.432885</td>\n",
       "      <td>1711.539762</td>\n",
       "      <td>15.369281</td>\n",
       "      <td>9.961583</td>\n",
       "      <td>10.328467</td>\n",
       "      <td>26.429985</td>\n",
       "      <td>100.0</td>\n",
       "      <td>9.137841</td>\n",
       "      <td>125.220054</td>\n",
       "      <td>304.430673</td>\n",
       "      <td>...</td>\n",
       "      <td>23.156819</td>\n",
       "      <td>0.711149</td>\n",
       "      <td>10.426316</td>\n",
       "      <td>3.022359</td>\n",
       "      <td>0.493732</td>\n",
       "      <td>5.600393</td>\n",
       "      <td>2.415435</td>\n",
       "      <td>12.679066</td>\n",
       "      <td>108.306706</td>\n",
       "      <td>4.474453</td>\n",
       "    </tr>\n",
       "    <tr>\n",
       "      <th>std</th>\n",
       "      <td>7.625791</td>\n",
       "      <td>3564.157915</td>\n",
       "      <td>5.217711</td>\n",
       "      <td>9.568189</td>\n",
       "      <td>6.240978</td>\n",
       "      <td>13.555245</td>\n",
       "      <td>0.0</td>\n",
       "      <td>6.459344</td>\n",
       "      <td>183.094623</td>\n",
       "      <td>233.527497</td>\n",
       "      <td>...</td>\n",
       "      <td>2.758015</td>\n",
       "      <td>0.094874</td>\n",
       "      <td>5.798972</td>\n",
       "      <td>1.812870</td>\n",
       "      <td>0.348556</td>\n",
       "      <td>4.858148</td>\n",
       "      <td>2.290024</td>\n",
       "      <td>9.518014</td>\n",
       "      <td>253.951448</td>\n",
       "      <td>1.938014</td>\n",
       "    </tr>\n",
       "    <tr>\n",
       "      <th>min</th>\n",
       "      <td>22.000000</td>\n",
       "      <td>22.092093</td>\n",
       "      <td>5.448458</td>\n",
       "      <td>1.000000</td>\n",
       "      <td>1.000000</td>\n",
       "      <td>1.000000</td>\n",
       "      <td>100.0</td>\n",
       "      <td>2.000000</td>\n",
       "      <td>4.000000</td>\n",
       "      <td>29.731200</td>\n",
       "      <td>...</td>\n",
       "      <td>12.000000</td>\n",
       "      <td>0.500000</td>\n",
       "      <td>2.000000</td>\n",
       "      <td>0.000000</td>\n",
       "      <td>0.033300</td>\n",
       "      <td>1.000000</td>\n",
       "      <td>0.200000</td>\n",
       "      <td>0.632456</td>\n",
       "      <td>0.764254</td>\n",
       "      <td>0.000000</td>\n",
       "    </tr>\n",
       "    <tr>\n",
       "      <th>25%</th>\n",
       "      <td>33.000000</td>\n",
       "      <td>297.716000</td>\n",
       "      <td>11.846815</td>\n",
       "      <td>3.000000</td>\n",
       "      <td>6.000000</td>\n",
       "      <td>15.000000</td>\n",
       "      <td>100.0</td>\n",
       "      <td>4.000000</td>\n",
       "      <td>16.000000</td>\n",
       "      <td>162.696000</td>\n",
       "      <td>...</td>\n",
       "      <td>24.000000</td>\n",
       "      <td>0.633333</td>\n",
       "      <td>6.000000</td>\n",
       "      <td>2.000000</td>\n",
       "      <td>0.250000</td>\n",
       "      <td>3.000000</td>\n",
       "      <td>1.000000</td>\n",
       "      <td>6.306082</td>\n",
       "      <td>12.799950</td>\n",
       "      <td>3.000000</td>\n",
       "    </tr>\n",
       "    <tr>\n",
       "      <th>50%</th>\n",
       "      <td>39.000000</td>\n",
       "      <td>644.556000</td>\n",
       "      <td>14.932039</td>\n",
       "      <td>7.000000</td>\n",
       "      <td>9.000000</td>\n",
       "      <td>25.000000</td>\n",
       "      <td>100.0</td>\n",
       "      <td>7.000000</td>\n",
       "      <td>49.000000</td>\n",
       "      <td>245.344500</td>\n",
       "      <td>...</td>\n",
       "      <td>24.000000</td>\n",
       "      <td>0.700000</td>\n",
       "      <td>9.500000</td>\n",
       "      <td>3.000000</td>\n",
       "      <td>0.400000</td>\n",
       "      <td>4.166700</td>\n",
       "      <td>1.666700</td>\n",
       "      <td>10.290773</td>\n",
       "      <td>32.076400</td>\n",
       "      <td>5.000000</td>\n",
       "    </tr>\n",
       "    <tr>\n",
       "      <th>75%</th>\n",
       "      <td>44.000000</td>\n",
       "      <td>1569.380000</td>\n",
       "      <td>18.377537</td>\n",
       "      <td>13.000000</td>\n",
       "      <td>14.000000</td>\n",
       "      <td>30.000000</td>\n",
       "      <td>100.0</td>\n",
       "      <td>12.000000</td>\n",
       "      <td>144.000000</td>\n",
       "      <td>362.561300</td>\n",
       "      <td>...</td>\n",
       "      <td>24.000000</td>\n",
       "      <td>0.766667</td>\n",
       "      <td>13.500000</td>\n",
       "      <td>4.000000</td>\n",
       "      <td>0.666700</td>\n",
       "      <td>6.666700</td>\n",
       "      <td>3.333300</td>\n",
       "      <td>16.276772</td>\n",
       "      <td>81.439000</td>\n",
       "      <td>6.000000</td>\n",
       "    </tr>\n",
       "    <tr>\n",
       "      <th>max</th>\n",
       "      <td>55.000000</td>\n",
       "      <td>23135.055000</td>\n",
       "      <td>43.768319</td>\n",
       "      <td>50.000000</td>\n",
       "      <td>35.000000</td>\n",
       "      <td>70.000000</td>\n",
       "      <td>100.0</td>\n",
       "      <td>30.000000</td>\n",
       "      <td>900.000000</td>\n",
       "      <td>1662.166600</td>\n",
       "      <td>...</td>\n",
       "      <td>36.000000</td>\n",
       "      <td>0.966667</td>\n",
       "      <td>28.000000</td>\n",
       "      <td>8.000000</td>\n",
       "      <td>2.000000</td>\n",
       "      <td>37.500000</td>\n",
       "      <td>16.666700</td>\n",
       "      <td>48.759560</td>\n",
       "      <td>2919.220000</td>\n",
       "      <td>10.000000</td>\n",
       "    </tr>\n",
       "  </tbody>\n",
       "</table>\n",
       "<p>8 rows × 33 columns</p>\n",
       "</div>"
      ],
      "text/plain": [
       "               Var4          Var7          Var9         Var10         Var13  \\\n",
       "count  13015.000000  13015.000000  13015.000000  13015.000000  13015.000000   \n",
       "mean      38.432885   1711.539762     15.369281      9.961583     10.328467   \n",
       "std        7.625791   3564.157915      5.217711      9.568189      6.240978   \n",
       "min       22.000000     22.092093      5.448458      1.000000      1.000000   \n",
       "25%       33.000000    297.716000     11.846815      3.000000      6.000000   \n",
       "50%       39.000000    644.556000     14.932039      7.000000      9.000000   \n",
       "75%       44.000000   1569.380000     18.377537     13.000000     14.000000   \n",
       "max       55.000000  23135.055000     43.768319     50.000000     35.000000   \n",
       "\n",
       "              Var14    Var20         Var21         Var22         Var24  ...  \\\n",
       "count  13015.000000  13015.0  13015.000000  13015.000000  13015.000000  ...   \n",
       "mean      26.429985    100.0      9.137841    125.220054    304.430673  ...   \n",
       "std       13.555245      0.0      6.459344    183.094623    233.527497  ...   \n",
       "min        1.000000    100.0      2.000000      4.000000     29.731200  ...   \n",
       "25%       15.000000    100.0      4.000000     16.000000    162.696000  ...   \n",
       "50%       25.000000    100.0      7.000000     49.000000    245.344500  ...   \n",
       "75%       30.000000    100.0     12.000000    144.000000    362.561300  ...   \n",
       "max       70.000000    100.0     30.000000    900.000000   1662.166600  ...   \n",
       "\n",
       "              Var84         Var85         Var95        Var114        Var129  \\\n",
       "count  13015.000000  13015.000000  13015.000000  13015.000000  13015.000000   \n",
       "mean      23.156819      0.711149     10.426316      3.022359      0.493732   \n",
       "std        2.758015      0.094874      5.798972      1.812870      0.348556   \n",
       "min       12.000000      0.500000      2.000000      0.000000      0.033300   \n",
       "25%       24.000000      0.633333      6.000000      2.000000      0.250000   \n",
       "50%       24.000000      0.700000      9.500000      3.000000      0.400000   \n",
       "75%       24.000000      0.766667     13.500000      4.000000      0.666700   \n",
       "max       36.000000      0.966667     28.000000      8.000000      2.000000   \n",
       "\n",
       "             Var130        Var131        Var136        Var161        Var163  \n",
       "count  13015.000000  13015.000000  13015.000000  13015.000000  13015.000000  \n",
       "mean       5.600393      2.415435     12.679066    108.306706      4.474453  \n",
       "std        4.858148      2.290024      9.518014    253.951448      1.938014  \n",
       "min        1.000000      0.200000      0.632456      0.764254      0.000000  \n",
       "25%        3.000000      1.000000      6.306082     12.799950      3.000000  \n",
       "50%        4.166700      1.666700     10.290773     32.076400      5.000000  \n",
       "75%        6.666700      3.333300     16.276772     81.439000      6.000000  \n",
       "max       37.500000     16.666700     48.759560   2919.220000     10.000000  \n",
       "\n",
       "[8 rows x 33 columns]"
      ]
     },
     "execution_count": 8,
     "metadata": {},
     "output_type": "execute_result"
    }
   ],
   "source": [
    "loan_df[col_type['Continuous']].describe()"
   ]
  },
  {
   "cell_type": "code",
   "execution_count": 9,
   "metadata": {},
   "outputs": [
    {
     "data": {
      "text/html": [
       "<div>\n",
       "<style scoped>\n",
       "    .dataframe tbody tr th:only-of-type {\n",
       "        vertical-align: middle;\n",
       "    }\n",
       "\n",
       "    .dataframe tbody tr th {\n",
       "        vertical-align: top;\n",
       "    }\n",
       "\n",
       "    .dataframe thead th {\n",
       "        text-align: right;\n",
       "    }\n",
       "</style>\n",
       "<table border=\"1\" class=\"dataframe\">\n",
       "  <thead>\n",
       "    <tr style=\"text-align: right;\">\n",
       "      <th></th>\n",
       "      <th>Var19</th>\n",
       "      <th>Var23</th>\n",
       "      <th>Var26</th>\n",
       "      <th>Var27</th>\n",
       "      <th>Var68</th>\n",
       "      <th>Var93</th>\n",
       "      <th>Var133</th>\n",
       "      <th>Var134</th>\n",
       "      <th>Var162</th>\n",
       "    </tr>\n",
       "  </thead>\n",
       "  <tbody>\n",
       "    <tr>\n",
       "      <th>count</th>\n",
       "      <td>13015.000000</td>\n",
       "      <td>13015.000000</td>\n",
       "      <td>13015.000000</td>\n",
       "      <td>13015.000000</td>\n",
       "      <td>13015.000000</td>\n",
       "      <td>13015.000000</td>\n",
       "      <td>13015.000000</td>\n",
       "      <td>13015.000000</td>\n",
       "      <td>13015.000000</td>\n",
       "    </tr>\n",
       "    <tr>\n",
       "      <th>mean</th>\n",
       "      <td>1.032424</td>\n",
       "      <td>1.888129</td>\n",
       "      <td>1.824587</td>\n",
       "      <td>0.824587</td>\n",
       "      <td>2.312486</td>\n",
       "      <td>1.223204</td>\n",
       "      <td>1.502651</td>\n",
       "      <td>1.502651</td>\n",
       "      <td>2.752439</td>\n",
       "    </tr>\n",
       "    <tr>\n",
       "      <th>std</th>\n",
       "      <td>0.345370</td>\n",
       "      <td>0.693618</td>\n",
       "      <td>0.380335</td>\n",
       "      <td>0.380335</td>\n",
       "      <td>1.065408</td>\n",
       "      <td>0.847645</td>\n",
       "      <td>0.743997</td>\n",
       "      <td>0.743997</td>\n",
       "      <td>2.383998</td>\n",
       "    </tr>\n",
       "    <tr>\n",
       "      <th>min</th>\n",
       "      <td>1.000000</td>\n",
       "      <td>1.000000</td>\n",
       "      <td>1.000000</td>\n",
       "      <td>0.000000</td>\n",
       "      <td>0.000000</td>\n",
       "      <td>1.000000</td>\n",
       "      <td>1.000000</td>\n",
       "      <td>1.000000</td>\n",
       "      <td>1.000000</td>\n",
       "    </tr>\n",
       "    <tr>\n",
       "      <th>25%</th>\n",
       "      <td>1.000000</td>\n",
       "      <td>1.000000</td>\n",
       "      <td>2.000000</td>\n",
       "      <td>1.000000</td>\n",
       "      <td>2.000000</td>\n",
       "      <td>1.000000</td>\n",
       "      <td>1.000000</td>\n",
       "      <td>1.000000</td>\n",
       "      <td>1.000000</td>\n",
       "    </tr>\n",
       "    <tr>\n",
       "      <th>50%</th>\n",
       "      <td>1.000000</td>\n",
       "      <td>2.000000</td>\n",
       "      <td>2.000000</td>\n",
       "      <td>1.000000</td>\n",
       "      <td>2.000000</td>\n",
       "      <td>1.000000</td>\n",
       "      <td>1.000000</td>\n",
       "      <td>1.000000</td>\n",
       "      <td>2.000000</td>\n",
       "    </tr>\n",
       "    <tr>\n",
       "      <th>75%</th>\n",
       "      <td>1.000000</td>\n",
       "      <td>2.000000</td>\n",
       "      <td>2.000000</td>\n",
       "      <td>1.000000</td>\n",
       "      <td>3.000000</td>\n",
       "      <td>1.000000</td>\n",
       "      <td>2.000000</td>\n",
       "      <td>2.000000</td>\n",
       "      <td>3.000000</td>\n",
       "    </tr>\n",
       "    <tr>\n",
       "      <th>max</th>\n",
       "      <td>5.000000</td>\n",
       "      <td>4.000000</td>\n",
       "      <td>2.000000</td>\n",
       "      <td>1.000000</td>\n",
       "      <td>5.000000</td>\n",
       "      <td>6.000000</td>\n",
       "      <td>4.000000</td>\n",
       "      <td>4.000000</td>\n",
       "      <td>10.000000</td>\n",
       "    </tr>\n",
       "  </tbody>\n",
       "</table>\n",
       "</div>"
      ],
      "text/plain": [
       "              Var19         Var23         Var26         Var27         Var68  \\\n",
       "count  13015.000000  13015.000000  13015.000000  13015.000000  13015.000000   \n",
       "mean       1.032424      1.888129      1.824587      0.824587      2.312486   \n",
       "std        0.345370      0.693618      0.380335      0.380335      1.065408   \n",
       "min        1.000000      1.000000      1.000000      0.000000      0.000000   \n",
       "25%        1.000000      1.000000      2.000000      1.000000      2.000000   \n",
       "50%        1.000000      2.000000      2.000000      1.000000      2.000000   \n",
       "75%        1.000000      2.000000      2.000000      1.000000      3.000000   \n",
       "max        5.000000      4.000000      2.000000      1.000000      5.000000   \n",
       "\n",
       "              Var93        Var133        Var134        Var162  \n",
       "count  13015.000000  13015.000000  13015.000000  13015.000000  \n",
       "mean       1.223204      1.502651      1.502651      2.752439  \n",
       "std        0.847645      0.743997      0.743997      2.383998  \n",
       "min        1.000000      1.000000      1.000000      1.000000  \n",
       "25%        1.000000      1.000000      1.000000      1.000000  \n",
       "50%        1.000000      1.000000      1.000000      2.000000  \n",
       "75%        1.000000      2.000000      2.000000      3.000000  \n",
       "max        6.000000      4.000000      4.000000     10.000000  "
      ]
     },
     "execution_count": 9,
     "metadata": {},
     "output_type": "execute_result"
    }
   ],
   "source": [
    "loan_df[col_type['Categorical Nominal']].describe()"
   ]
  },
  {
   "cell_type": "code",
   "execution_count": 10,
   "metadata": {},
   "outputs": [
    {
     "data": {
      "text/plain": [
       "Fold  Target\n",
       "IS    0         8043\n",
       "      1          199\n",
       "OS    0         4691\n",
       "      1           82\n",
       "Name: Var4, dtype: int64"
      ]
     },
     "execution_count": 10,
     "metadata": {},
     "output_type": "execute_result"
    }
   ],
   "source": [
    "loan_df.groupby(['Fold','Target']).count().Var4"
   ]
  },
  {
   "cell_type": "markdown",
   "metadata": {},
   "source": [
    "Looks like a heavy class imbalance"
   ]
  },
  {
   "cell_type": "code",
   "execution_count": 11,
   "metadata": {},
   "outputs": [],
   "source": [
    "# remove columns with 1 unique value\n",
    "for Type in col_type:\n",
    "    n_unique = loan_df[col_type[Type]].nunique()\n",
    "    col_type[Type] = col_type[Type][n_unique >1]\n"
   ]
  },
  {
   "cell_type": "code",
   "execution_count": 12,
   "metadata": {},
   "outputs": [
    {
     "data": {
      "text/plain": [
       "(0.023944345575149652, 0.024745269286754003)"
      ]
     },
     "execution_count": 12,
     "metadata": {},
     "output_type": "execute_result"
    }
   ],
   "source": [
    "# split data in to training, validation, and out sample sets\n",
    "all_cols = np.concatenate([col_type[i] for i in col_type])\n",
    "all_insample_df = loan_df.query('Fold ==\"IS\"')\n",
    "all_outsample_df = loan_df.query('Fold ==\"OS\"')\n",
    "x_train, x_validate, y_train, y_validate = model_selection.train_test_split(all_insample_df[all_cols], all_insample_df['Target'])\n",
    "y_train.sum() / y_train.shape[0], y_validate.sum() / y_validate.shape[0]"
   ]
  },
  {
   "cell_type": "markdown",
   "metadata": {},
   "source": [
    "# Under sampling model\n",
    "\n",
    "Try a basic model without any hyper paramter tuning to get a baseline. Set up pipeline for easier way to do hyper paramter tuning"
   ]
  },
  {
   "cell_type": "code",
   "execution_count": 13,
   "metadata": {},
   "outputs": [],
   "source": [
    "# create pipleline\n",
    "# continue features\n",
    "continuous_transformer = Pipeline(steps=[('standarization', preprocessing.StandardScaler()),\n",
    "                                        ('pca', decomposition.PCA())])\n",
    "# ordinal feautres\n",
    "categorical__ordinal_transformer = Pipeline(steps=[('passthrough', 'passthrough')])\n",
    "# Dummy features\n",
    "dummy_transformer = Pipeline(steps=[('passthrough', 'passthrough')])\n",
    "# categorical\n",
    "categorical__nominal_transformer = Pipeline(steps=[('encoding', ce.BinaryEncoder())])\n",
    "\n",
    "# use unsupervised clustering to create more features\n",
    "\n",
    "# put pipelines together\n",
    "preprocessor = ColumnTransformer(\n",
    "    transformers=[\n",
    "        ('ordinal', categorical__ordinal_transformer,col_type['Categorical Ordinal']),\n",
    "        ('continuous', continuous_transformer, col_type['Continuous']),\n",
    "        ('dummy',dummy_transformer, col_type['Dummy']),\n",
    "        ('nominal',categorical__nominal_transformer,col_type['Categorical Nominal'])])\n",
    "\n",
    "# create model\n",
    "benchmark_model = Pipeline(steps=[\n",
    "                      ('preprocessor', preprocessor),\n",
    "    # imbalance class sampler\n",
    "                        ('undersampling', under_sampling.RandomUnderSampler()),\n",
    "    # feature selection using linear model\n",
    "                    ('feature selection', feature_selection.SelectFromModel(ensemble.RandomForestClassifier(),max_features=20,prefit=False)),\n",
    "    # classifier\n",
    "                      ('classifier',linear_model.LogisticRegression(max_iter=10**4))])"
   ]
  },
  {
   "cell_type": "code",
   "execution_count": 14,
   "metadata": {},
   "outputs": [
    {
     "data": {
      "text/plain": [
       "(0.6685057471264367, 0.14117750291706632)"
      ]
     },
     "execution_count": 14,
     "metadata": {},
     "output_type": "execute_result"
    }
   ],
   "source": [
    "skf = model_selection.StratifiedKFold(n_splits=5)\n",
    "cv_scores = model_selection.cross_val_score(benchmark_model, x_train, y_train, cv=skf, scoring='recall')\n",
    "np.mean(cv_scores), np.std(cv_scores)"
   ]
  },
  {
   "cell_type": "code",
   "execution_count": 15,
   "metadata": {},
   "outputs": [
    {
     "name": "stdout",
     "output_type": "stream",
     "text": [
      "              precision    recall  f1-score   support\n",
      "\n",
      "           0       0.98      0.66      0.79      2010\n",
      "           1       0.04      0.55      0.07        51\n",
      "\n",
      "    accuracy                           0.65      2061\n",
      "   macro avg       0.51      0.60      0.43      2061\n",
      "weighted avg       0.96      0.65      0.77      2061\n",
      "\n"
     ]
    }
   ],
   "source": [
    "# on model validation sample\n",
    "benchmark_model.fit(x_train, y_train)\n",
    "print(metrics.classification_report(y_validate, benchmark_model.predict(x_validate)))"
   ]
  },
  {
   "cell_type": "markdown",
   "metadata": {},
   "source": [
    "# Hyper parameter tuning"
   ]
  },
  {
   "cell_type": "code",
   "execution_count": 16,
   "metadata": {},
   "outputs": [],
   "source": [
    "encoder_list = ['passthrough',\n",
    "               ce.binary.BinaryEncoder(),\n",
    "                ]\n",
    "continuous_transfomations = [(('standarization', preprocessing.StandardScaler()),('pca', decomposition.PCA())),\n",
    "                             ('nothing', 'passthrough'),\n",
    "                             ('standarization', preprocessing.StandardScaler()),\n",
    "                             ('quantile', preprocessing.QuantileTransformer()),\n",
    "                             ('robust transformation', preprocessing.RobustScaler()),\n",
    "                             #('log transform', preprocessing.FunctionTransformer(np.log, np.exp))\n",
    "    \n",
    "]\n",
    "\n",
    "class_imbalance_list = [over_sampling.SMOTE(),\n",
    "                        over_sampling.SVMSMOTE(),\n",
    "                       over_sampling.ADASYN(),\n",
    "                       under_sampling.RandomUnderSampler(.3),\n",
    "                        under_sampling.RandomUnderSampler(.2),\n",
    "                        under_sampling.RandomUnderSampler(.1),\n",
    "                       under_sampling.EditedNearestNeighbours(),\n",
    "                       under_sampling.RepeatedEditedNearestNeighbours()\n",
    "                       ]\n",
    "\n",
    "model_list = [XGBClassifier(n_estimators=5),\n",
    "              XGBClassifier(n_estimators=10), \n",
    "              linear_model.LogisticRegressionCV(), \n",
    "              ensemble.RandomForestClassifier(n_estimators=5),\n",
    "              ensemble.RandomForestClassifier(n_estimators=10)\n",
    "             ]"
   ]
  },
  {
   "cell_type": "code",
   "execution_count": 17,
   "metadata": {},
   "outputs": [],
   "source": [
    "space = [\n",
    "    #Real(0.025, 1, \"log-uniform\", name=\"ib_sample\"),\n",
    "    Integer(1, 15, name='max_features'),\n",
    "    Categorical(continuous_transfomations,name='continuous'),\n",
    "    Categorical(class_imbalance_list,name='undersampling'),\n",
    "    #Categorical(encoder_list, name='ordinal'),\n",
    "    #Categorical(encoder_list, name='dummy'),\n",
    "    Categorical(encoder_list, name='nominal'),\n",
    "    Categorical(model_list, name='model')\n",
    "\n",
    "]"
   ]
  },
  {
   "cell_type": "code",
   "execution_count": 18,
   "metadata": {},
   "outputs": [],
   "source": [
    "@use_named_args(space)\n",
    "def objective(**params):\n",
    "    \n",
    "    all_param = dict(**params)\n",
    "    print(all_param)\n",
    "    # continue features\n",
    "    # deal with multi step transformations\n",
    "    if isinstance(all_param['continuous'][0],tuple):\n",
    "        continuous_transformer = Pipeline(steps=[i for i in all_param['continuous']])\n",
    "    else:\n",
    "        continuous_transformer = Pipeline(steps=[all_param['continuous']])\n",
    "    # ordinal feautres\n",
    "    categorical__ordinal_transformer = Pipeline(steps=[('cat_ord', 'passthrough')]) #all_param['ordinal']\n",
    "    # Dummy features\n",
    "    dummy_transformer = Pipeline(steps=[('dummy', 'passthrough')]) #all_param['dummy']\n",
    "    # categorical\n",
    "    categorical__nominal_transformer = Pipeline(steps=[('cat_nom', all_param['nominal'])])\n",
    "\n",
    "\n",
    "    # put pipelines together\n",
    "    preprocessor = ColumnTransformer(\n",
    "        transformers=[\n",
    "            ('ordinal', categorical__ordinal_transformer,col_type['Categorical Ordinal']),\n",
    "            ('continuous', continuous_transformer, col_type['Continuous']),\n",
    "        ('dummy',dummy_transformer, col_type['Dummy']),\n",
    "        ('nominal',categorical__nominal_transformer,col_type['Categorical Nominal'])])\n",
    "\n",
    "    # create model\n",
    "    pipeline = Pipeline(steps=[\n",
    "                          ('preprocessor', preprocessor),\n",
    "        # imbalance class sampler\n",
    "                            ('undersampling', all_param['undersampling']),\n",
    "        # feature selection using linear model\n",
    "                        ('feature selection', feature_selection.SelectFromModel(ensemble.RandomForestClassifier(),max_features=all_param['max_features'],prefit=False)),\n",
    "        # classifier\n",
    "                          ('classifier', all_param['model'])])    \n",
    "    # CV\n",
    "    skf = model_selection.StratifiedKFold(n_splits=3)\n",
    "    # # create Cross validation\n",
    "    cv_scores = model_selection.cross_val_score(pipeline, x_train, y_train, cv=skf, scoring='recall')\n",
    "    print(cv_scores)\n",
    "    return -np.mean(cv_scores)\n"
   ]
  },
  {
   "cell_type": "code",
   "execution_count": 19,
   "metadata": {
    "collapsed": true,
    "jupyter": {
     "outputs_hidden": true
    }
   },
   "outputs": [
    {
     "name": "stdout",
     "output_type": "stream",
     "text": [
      "Iteration No: 1 started. Evaluating function at random point.\n",
      "{'max_features': 8, 'continuous': ('nothing', 'passthrough'), 'undersampling': RandomUnderSampler(sampling_strategy=0.2), 'nominal': BinaryEncoder(), 'model': XGBClassifier(base_score=None, booster=None, colsample_bylevel=None,\n",
      "              colsample_bynode=None, colsample_bytree=None, gamma=None,\n",
      "              gpu_id=None, importance_type='gain', interaction_constraints=None,\n",
      "              learning_rate=None, max_delta_step=None, max_depth=None,\n",
      "              min_child_weight=None, missing=nan, monotone_constraints=None,\n",
      "              n_estimators=10, n_jobs=None, num_parallel_tree=None,\n",
      "              random_state=None, reg_alpha=None, reg_lambda=None,\n",
      "              scale_pos_weight=None, subsample=None, tree_method=None,\n",
      "              validate_parameters=False, verbosity=None)}\n",
      "[0.16       0.14285714 0.08163265]\n",
      "Iteration No: 1 ended. Evaluation done at random point.\n",
      "Time taken: 1.3048\n",
      "Function value obtained: -0.1282\n",
      "Current minimum: -0.1282\n",
      "Iteration No: 2 started. Evaluating function at random point.\n",
      "{'max_features': 2, 'continuous': ('standarization', StandardScaler()), 'undersampling': SVMSMOTE(), 'nominal': BinaryEncoder(), 'model': RandomForestClassifier(n_estimators=10)}\n",
      "[0.         0.10204082 0.        ]\n",
      "Iteration No: 2 ended. Evaluation done at random point.\n",
      "Time taken: 9.3842\n",
      "Function value obtained: -0.0340\n",
      "Current minimum: -0.1282\n",
      "Iteration No: 3 started. Evaluating function at random point.\n",
      "{'max_features': 8, 'continuous': ('quantile', QuantileTransformer()), 'undersampling': ADASYN(), 'nominal': 'passthrough', 'model': RandomForestClassifier(n_estimators=5)}\n",
      "[0.06       0.04081633 0.08163265]\n",
      "Iteration No: 3 ended. Evaluation done at random point.\n",
      "Time taken: 10.8791\n",
      "Function value obtained: -0.0608\n",
      "Current minimum: -0.1282\n",
      "Iteration No: 4 started. Evaluating function at random point.\n",
      "{'max_features': 12, 'continuous': ('standarization', StandardScaler()), 'undersampling': SVMSMOTE(), 'nominal': BinaryEncoder(), 'model': RandomForestClassifier(n_estimators=10)}\n",
      "[0. 0. 0.]\n",
      "Iteration No: 4 ended. Evaluation done at random point.\n",
      "Time taken: 9.7879\n",
      "Function value obtained: -0.0000\n",
      "Current minimum: -0.1282\n",
      "Iteration No: 5 started. Evaluating function at random point.\n",
      "{'max_features': 11, 'continuous': ('robust transformation', RobustScaler()), 'undersampling': SVMSMOTE(), 'nominal': BinaryEncoder(), 'model': XGBClassifier(base_score=None, booster=None, colsample_bylevel=None,\n",
      "              colsample_bynode=None, colsample_bytree=None, gamma=None,\n",
      "              gpu_id=None, importance_type='gain', interaction_constraints=None,\n",
      "              learning_rate=None, max_delta_step=None, max_depth=None,\n",
      "              min_child_weight=None, missing=nan, monotone_constraints=None,\n",
      "              n_estimators=10, n_jobs=None, num_parallel_tree=None,\n",
      "              random_state=None, reg_alpha=None, reg_lambda=None,\n",
      "              scale_pos_weight=None, subsample=None, tree_method=None,\n",
      "              validate_parameters=False, verbosity=None)}\n",
      "[0.04       0.         0.02040816]\n",
      "Iteration No: 5 ended. Evaluation done at random point.\n",
      "Time taken: 8.4055\n",
      "Function value obtained: -0.0201\n",
      "Current minimum: -0.1282\n",
      "Iteration No: 6 started. Evaluating function at random point.\n",
      "{'max_features': 7, 'continuous': ('robust transformation', RobustScaler()), 'undersampling': RandomUnderSampler(sampling_strategy=0.1), 'nominal': 'passthrough', 'model': RandomForestClassifier(n_estimators=10)}\n",
      "[0.02       0.02040816 0.        ]\n",
      "Iteration No: 6 ended. Evaluation done at random point.\n",
      "Time taken: 1.4370\n",
      "Function value obtained: -0.0135\n",
      "Current minimum: -0.1282\n",
      "Iteration No: 7 started. Evaluating function at random point.\n",
      "{'max_features': 10, 'continuous': (('standarization', StandardScaler()), ('pca', PCA())), 'undersampling': RandomUnderSampler(sampling_strategy=0.2), 'nominal': BinaryEncoder(), 'model': RandomForestClassifier(n_estimators=5)}\n",
      "[0.1        0.14285714 0.16326531]\n",
      "Iteration No: 7 ended. Evaluation done at random point.\n",
      "Time taken: 1.7005\n",
      "Function value obtained: -0.1354\n",
      "Current minimum: -0.1354\n",
      "Iteration No: 8 started. Evaluating function at random point.\n",
      "{'max_features': 4, 'continuous': ('robust transformation', RobustScaler()), 'undersampling': EditedNearestNeighbours(), 'nominal': BinaryEncoder(), 'model': LogisticRegressionCV()}\n",
      "[0. 0. 0.]\n",
      "Iteration No: 8 ended. Evaluation done at random point.\n",
      "Time taken: 16.5003\n",
      "Function value obtained: -0.0000\n",
      "Current minimum: -0.1354\n",
      "Iteration No: 9 started. Evaluating function at random point.\n",
      "{'max_features': 4, 'continuous': ('nothing', 'passthrough'), 'undersampling': RandomUnderSampler(sampling_strategy=0.1), 'nominal': 'passthrough', 'model': RandomForestClassifier(n_estimators=5)}\n",
      "[0.06       0.02040816 0.08163265]\n",
      "Iteration No: 9 ended. Evaluation done at random point.\n",
      "Time taken: 1.3443\n",
      "Function value obtained: -0.0540\n",
      "Current minimum: -0.1354\n",
      "Iteration No: 10 started. Evaluating function at random point.\n",
      "{'max_features': 14, 'continuous': (('standarization', StandardScaler()), ('pca', PCA())), 'undersampling': RandomUnderSampler(sampling_strategy=0.1), 'nominal': BinaryEncoder(), 'model': RandomForestClassifier(n_estimators=10)}\n",
      "[0.         0.         0.02040816]\n",
      "Iteration No: 10 ended. Evaluation done at random point.\n",
      "Time taken: 2.9394\n",
      "Function value obtained: -0.0068\n",
      "Current minimum: -0.1354\n",
      "Iteration No: 11 started. Searching for the next optimal point.\n",
      "{'max_features': 7, 'continuous': ('nothing', 'passthrough'), 'undersampling': RandomUnderSampler(sampling_strategy=0.2), 'nominal': BinaryEncoder(), 'model': RandomForestClassifier(n_estimators=5)}\n",
      "[0.04       0.10204082 0.08163265]\n",
      "Iteration No: 11 ended. Search finished for the next optimal point.\n",
      "Time taken: 2.0049\n",
      "Function value obtained: -0.0746\n",
      "Current minimum: -0.1354\n",
      "Iteration No: 12 started. Searching for the next optimal point.\n",
      "{'max_features': 15, 'continuous': (('standarization', StandardScaler()), ('pca', PCA())), 'undersampling': RandomUnderSampler(sampling_strategy=0.2), 'nominal': BinaryEncoder(), 'model': XGBClassifier(base_score=None, booster=None, colsample_bylevel=None,\n",
      "              colsample_bynode=None, colsample_bytree=None, gamma=None,\n",
      "              gpu_id=None, importance_type='gain', interaction_constraints=None,\n",
      "              learning_rate=None, max_delta_step=None, max_depth=None,\n",
      "              min_child_weight=None, missing=nan, monotone_constraints=None,\n",
      "              n_estimators=10, n_jobs=None, num_parallel_tree=None,\n",
      "              random_state=None, reg_alpha=None, reg_lambda=None,\n",
      "              scale_pos_weight=None, subsample=None, tree_method=None,\n",
      "              validate_parameters=False, verbosity=None)}\n",
      "[0.06       0.06122449 0.02040816]\n",
      "Iteration No: 12 ended. Search finished for the next optimal point.\n",
      "Time taken: 2.7477\n",
      "Function value obtained: -0.0472\n",
      "Current minimum: -0.1354\n",
      "Iteration No: 13 started. Searching for the next optimal point.\n",
      "{'max_features': 1, 'continuous': ('standarization', StandardScaler()), 'undersampling': RandomUnderSampler(sampling_strategy=0.2), 'nominal': 'passthrough', 'model': RandomForestClassifier(n_estimators=5)}\n",
      "[0.1        0.18367347 0.18367347]\n",
      "Iteration No: 13 ended. Search finished for the next optimal point.\n",
      "Time taken: 1.9715\n",
      "Function value obtained: -0.1558\n",
      "Current minimum: -0.1558\n",
      "Iteration No: 14 started. Searching for the next optimal point.\n",
      "{'max_features': 1, 'continuous': ('quantile', QuantileTransformer()), 'undersampling': RandomUnderSampler(sampling_strategy=0.2), 'nominal': 'passthrough', 'model': RandomForestClassifier(n_estimators=5)}\n",
      "[0.14       0.18367347 0.2244898 ]\n",
      "Iteration No: 14 ended. Search finished for the next optimal point.\n",
      "Time taken: 2.3350\n",
      "Function value obtained: -0.1827\n",
      "Current minimum: -0.1827\n",
      "Iteration No: 15 started. Searching for the next optimal point.\n",
      "{'max_features': 7, 'continuous': ('nothing', 'passthrough'), 'undersampling': RandomUnderSampler(sampling_strategy=0.2), 'nominal': BinaryEncoder(), 'model': XGBClassifier(base_score=None, booster=None, colsample_bylevel=None,\n",
      "              colsample_bynode=None, colsample_bytree=None, gamma=None,\n",
      "              gpu_id=None, importance_type='gain', interaction_constraints=None,\n",
      "              learning_rate=None, max_delta_step=None, max_depth=None,\n",
      "              min_child_weight=None, missing=nan, monotone_constraints=None,\n",
      "              n_estimators=10, n_jobs=None, num_parallel_tree=None,\n",
      "              random_state=None, reg_alpha=None, reg_lambda=None,\n",
      "              scale_pos_weight=None, subsample=None, tree_method=None,\n",
      "              validate_parameters=False, verbosity=None)}\n",
      "[0.22       0.16326531 0.08163265]\n",
      "Iteration No: 15 ended. Search finished for the next optimal point.\n",
      "Time taken: 1.8322\n",
      "Function value obtained: -0.1550\n",
      "Current minimum: -0.1827\n",
      "Iteration No: 16 started. Searching for the next optimal point.\n",
      "{'max_features': 1, 'continuous': ('quantile', QuantileTransformer()), 'undersampling': RandomUnderSampler(sampling_strategy=0.2), 'nominal': 'passthrough', 'model': RandomForestClassifier(n_estimators=5)}\n"
     ]
    },
    {
     "name": "stderr",
     "output_type": "stream",
     "text": [
      "/opt/conda/lib/python3.7/site-packages/skopt/optimizer/optimizer.py:409: UserWarning: The objective has been evaluated at this point before.\n",
      "  warnings.warn(\"The objective has been evaluated \"\n"
     ]
    },
    {
     "name": "stdout",
     "output_type": "stream",
     "text": [
      "[0.16       0.28571429 0.20408163]\n",
      "Iteration No: 16 ended. Search finished for the next optimal point.\n",
      "Time taken: 2.0255\n",
      "Function value obtained: -0.2166\n",
      "Current minimum: -0.2166\n",
      "Iteration No: 17 started. Searching for the next optimal point.\n",
      "{'max_features': 1, 'continuous': ('quantile', QuantileTransformer()), 'undersampling': RandomUnderSampler(sampling_strategy=0.2), 'nominal': 'passthrough', 'model': RandomForestClassifier(n_estimators=5)}\n"
     ]
    },
    {
     "name": "stderr",
     "output_type": "stream",
     "text": [
      "/opt/conda/lib/python3.7/site-packages/skopt/optimizer/optimizer.py:409: UserWarning: The objective has been evaluated at this point before.\n",
      "  warnings.warn(\"The objective has been evaluated \"\n"
     ]
    },
    {
     "name": "stdout",
     "output_type": "stream",
     "text": [
      "[0.14       0.18367347 0.16326531]\n",
      "Iteration No: 17 ended. Search finished for the next optimal point.\n",
      "Time taken: 2.8786\n",
      "Function value obtained: -0.1623\n",
      "Current minimum: -0.2166\n",
      "Iteration No: 18 started. Searching for the next optimal point.\n",
      "{'max_features': 1, 'continuous': ('quantile', QuantileTransformer()), 'undersampling': RandomUnderSampler(sampling_strategy=0.2), 'nominal': 'passthrough', 'model': RandomForestClassifier(n_estimators=5)}\n"
     ]
    },
    {
     "name": "stderr",
     "output_type": "stream",
     "text": [
      "/opt/conda/lib/python3.7/site-packages/skopt/optimizer/optimizer.py:409: UserWarning: The objective has been evaluated at this point before.\n",
      "  warnings.warn(\"The objective has been evaluated \"\n"
     ]
    },
    {
     "name": "stdout",
     "output_type": "stream",
     "text": [
      "[0.08       0.24489796 0.18367347]\n",
      "Iteration No: 18 ended. Search finished for the next optimal point.\n",
      "Time taken: 2.2786\n",
      "Function value obtained: -0.1695\n",
      "Current minimum: -0.2166\n",
      "Iteration No: 19 started. Searching for the next optimal point.\n",
      "{'max_features': 1, 'continuous': ('quantile', QuantileTransformer()), 'undersampling': RandomUnderSampler(sampling_strategy=0.2), 'nominal': 'passthrough', 'model': RandomForestClassifier(n_estimators=5)}\n"
     ]
    },
    {
     "name": "stderr",
     "output_type": "stream",
     "text": [
      "/opt/conda/lib/python3.7/site-packages/skopt/optimizer/optimizer.py:409: UserWarning: The objective has been evaluated at this point before.\n",
      "  warnings.warn(\"The objective has been evaluated \"\n"
     ]
    },
    {
     "name": "stdout",
     "output_type": "stream",
     "text": [
      "[0.14       0.32653061 0.16326531]\n",
      "Iteration No: 19 ended. Search finished for the next optimal point.\n",
      "Time taken: 2.5500\n",
      "Function value obtained: -0.2099\n",
      "Current minimum: -0.2166\n",
      "Iteration No: 20 started. Searching for the next optimal point.\n",
      "{'max_features': 1, 'continuous': ('quantile', QuantileTransformer()), 'undersampling': RandomUnderSampler(sampling_strategy=0.2), 'nominal': 'passthrough', 'model': RandomForestClassifier(n_estimators=5)}\n"
     ]
    },
    {
     "name": "stderr",
     "output_type": "stream",
     "text": [
      "/opt/conda/lib/python3.7/site-packages/skopt/optimizer/optimizer.py:409: UserWarning: The objective has been evaluated at this point before.\n",
      "  warnings.warn(\"The objective has been evaluated \"\n"
     ]
    },
    {
     "name": "stdout",
     "output_type": "stream",
     "text": [
      "[0.12       0.2244898  0.20408163]\n",
      "Iteration No: 20 ended. Search finished for the next optimal point.\n",
      "Time taken: 2.5545\n",
      "Function value obtained: -0.1829\n",
      "Current minimum: -0.2166\n",
      "Iteration No: 21 started. Searching for the next optimal point.\n",
      "{'max_features': 5, 'continuous': ('quantile', QuantileTransformer()), 'undersampling': RandomUnderSampler(sampling_strategy=0.2), 'nominal': 'passthrough', 'model': RandomForestClassifier(n_estimators=5)}\n",
      "[0.2        0.18367347 0.14285714]\n",
      "Iteration No: 21 ended. Search finished for the next optimal point.\n",
      "Time taken: 2.7818\n",
      "Function value obtained: -0.1755\n",
      "Current minimum: -0.2166\n",
      "Iteration No: 22 started. Searching for the next optimal point.\n",
      "{'max_features': 1, 'continuous': ('quantile', QuantileTransformer()), 'undersampling': RandomUnderSampler(sampling_strategy=0.2), 'nominal': 'passthrough', 'model': RandomForestClassifier(n_estimators=5)}\n"
     ]
    },
    {
     "name": "stderr",
     "output_type": "stream",
     "text": [
      "/opt/conda/lib/python3.7/site-packages/skopt/optimizer/optimizer.py:409: UserWarning: The objective has been evaluated at this point before.\n",
      "  warnings.warn(\"The objective has been evaluated \"\n"
     ]
    },
    {
     "name": "stdout",
     "output_type": "stream",
     "text": [
      "[0.1        0.20408163 0.18367347]\n",
      "Iteration No: 22 ended. Search finished for the next optimal point.\n",
      "Time taken: 2.5338\n",
      "Function value obtained: -0.1626\n",
      "Current minimum: -0.2166\n",
      "Iteration No: 23 started. Searching for the next optimal point.\n",
      "{'max_features': 1, 'continuous': ('quantile', QuantileTransformer()), 'undersampling': RandomUnderSampler(sampling_strategy=0.2), 'nominal': 'passthrough', 'model': RandomForestClassifier(n_estimators=5)}\n"
     ]
    },
    {
     "name": "stderr",
     "output_type": "stream",
     "text": [
      "/opt/conda/lib/python3.7/site-packages/skopt/optimizer/optimizer.py:409: UserWarning: The objective has been evaluated at this point before.\n",
      "  warnings.warn(\"The objective has been evaluated \"\n"
     ]
    },
    {
     "name": "stdout",
     "output_type": "stream",
     "text": [
      "[0.24       0.26530612 0.18367347]\n",
      "Iteration No: 23 ended. Search finished for the next optimal point.\n",
      "Time taken: 2.8332\n",
      "Function value obtained: -0.2297\n",
      "Current minimum: -0.2297\n",
      "Iteration No: 24 started. Searching for the next optimal point.\n",
      "{'max_features': 1, 'continuous': ('quantile', QuantileTransformer()), 'undersampling': RandomUnderSampler(sampling_strategy=0.2), 'nominal': 'passthrough', 'model': RandomForestClassifier(n_estimators=5)}\n"
     ]
    },
    {
     "name": "stderr",
     "output_type": "stream",
     "text": [
      "/opt/conda/lib/python3.7/site-packages/skopt/optimizer/optimizer.py:409: UserWarning: The objective has been evaluated at this point before.\n",
      "  warnings.warn(\"The objective has been evaluated \"\n"
     ]
    },
    {
     "name": "stdout",
     "output_type": "stream",
     "text": [
      "[0.14       0.26530612 0.18367347]\n",
      "Iteration No: 24 ended. Search finished for the next optimal point.\n",
      "Time taken: 2.8872\n",
      "Function value obtained: -0.1963\n",
      "Current minimum: -0.2297\n",
      "Iteration No: 25 started. Searching for the next optimal point.\n",
      "{'max_features': 13, 'continuous': ('quantile', QuantileTransformer()), 'undersampling': RandomUnderSampler(sampling_strategy=0.2), 'nominal': BinaryEncoder(), 'model': RandomForestClassifier(n_estimators=5)}\n",
      "[0.14       0.04081633 0.14285714]\n",
      "Iteration No: 25 ended. Search finished for the next optimal point.\n",
      "Time taken: 2.8323\n",
      "Function value obtained: -0.1079\n",
      "Current minimum: -0.2297\n",
      "Iteration No: 26 started. Searching for the next optimal point.\n",
      "{'max_features': 1, 'continuous': ('quantile', QuantileTransformer()), 'undersampling': RandomUnderSampler(sampling_strategy=0.2), 'nominal': 'passthrough', 'model': RandomForestClassifier(n_estimators=5)}\n"
     ]
    },
    {
     "name": "stderr",
     "output_type": "stream",
     "text": [
      "/opt/conda/lib/python3.7/site-packages/skopt/optimizer/optimizer.py:409: UserWarning: The objective has been evaluated at this point before.\n",
      "  warnings.warn(\"The objective has been evaluated \"\n"
     ]
    },
    {
     "name": "stdout",
     "output_type": "stream",
     "text": [
      "[0.08       0.18367347 0.18367347]\n",
      "Iteration No: 26 ended. Search finished for the next optimal point.\n",
      "Time taken: 2.8704\n",
      "Function value obtained: -0.1491\n",
      "Current minimum: -0.2297\n",
      "Iteration No: 27 started. Searching for the next optimal point.\n",
      "{'max_features': 1, 'continuous': ('quantile', QuantileTransformer()), 'undersampling': RandomUnderSampler(sampling_strategy=0.2), 'nominal': 'passthrough', 'model': RandomForestClassifier(n_estimators=5)}\n"
     ]
    },
    {
     "name": "stderr",
     "output_type": "stream",
     "text": [
      "/opt/conda/lib/python3.7/site-packages/skopt/optimizer/optimizer.py:409: UserWarning: The objective has been evaluated at this point before.\n",
      "  warnings.warn(\"The objective has been evaluated \"\n"
     ]
    },
    {
     "name": "stdout",
     "output_type": "stream",
     "text": [
      "[0.16       0.18367347 0.18367347]\n",
      "Iteration No: 27 ended. Search finished for the next optimal point.\n",
      "Time taken: 2.8961\n",
      "Function value obtained: -0.1758\n",
      "Current minimum: -0.2297\n",
      "Iteration No: 28 started. Searching for the next optimal point.\n",
      "{'max_features': 1, 'continuous': ('quantile', QuantileTransformer()), 'undersampling': RandomUnderSampler(sampling_strategy=0.2), 'nominal': 'passthrough', 'model': RandomForestClassifier(n_estimators=5)}\n"
     ]
    },
    {
     "name": "stderr",
     "output_type": "stream",
     "text": [
      "/opt/conda/lib/python3.7/site-packages/skopt/optimizer/optimizer.py:409: UserWarning: The objective has been evaluated at this point before.\n",
      "  warnings.warn(\"The objective has been evaluated \"\n"
     ]
    },
    {
     "name": "stdout",
     "output_type": "stream",
     "text": [
      "[0.16      0.2244898 0.2244898]\n",
      "Iteration No: 28 ended. Search finished for the next optimal point.\n",
      "Time taken: 2.8713\n",
      "Function value obtained: -0.2030\n",
      "Current minimum: -0.2297\n",
      "Iteration No: 29 started. Searching for the next optimal point.\n",
      "{'max_features': 1, 'continuous': ('quantile', QuantileTransformer()), 'undersampling': RandomUnderSampler(sampling_strategy=0.2), 'nominal': 'passthrough', 'model': RandomForestClassifier(n_estimators=5)}\n"
     ]
    },
    {
     "name": "stderr",
     "output_type": "stream",
     "text": [
      "/opt/conda/lib/python3.7/site-packages/skopt/optimizer/optimizer.py:409: UserWarning: The objective has been evaluated at this point before.\n",
      "  warnings.warn(\"The objective has been evaluated \"\n"
     ]
    },
    {
     "name": "stdout",
     "output_type": "stream",
     "text": [
      "[0.14       0.24489796 0.20408163]\n",
      "Iteration No: 29 ended. Search finished for the next optimal point.\n",
      "Time taken: 2.9294\n",
      "Function value obtained: -0.1963\n",
      "Current minimum: -0.2297\n",
      "Iteration No: 30 started. Searching for the next optimal point.\n",
      "{'max_features': 1, 'continuous': ('quantile', QuantileTransformer()), 'undersampling': RandomUnderSampler(sampling_strategy=0.2), 'nominal': 'passthrough', 'model': RandomForestClassifier(n_estimators=5)}\n"
     ]
    },
    {
     "name": "stderr",
     "output_type": "stream",
     "text": [
      "/opt/conda/lib/python3.7/site-packages/skopt/optimizer/optimizer.py:409: UserWarning: The objective has been evaluated at this point before.\n",
      "  warnings.warn(\"The objective has been evaluated \"\n"
     ]
    },
    {
     "name": "stdout",
     "output_type": "stream",
     "text": [
      "[0.18       0.20408163 0.20408163]\n",
      "Iteration No: 30 ended. Search finished for the next optimal point.\n",
      "Time taken: 3.1720\n",
      "Function value obtained: -0.1961\n",
      "Current minimum: -0.2297\n",
      "Iteration No: 31 started. Searching for the next optimal point.\n",
      "{'max_features': 1, 'continuous': ('quantile', QuantileTransformer()), 'undersampling': RandomUnderSampler(sampling_strategy=0.2), 'nominal': 'passthrough', 'model': RandomForestClassifier(n_estimators=5)}\n"
     ]
    },
    {
     "name": "stderr",
     "output_type": "stream",
     "text": [
      "/opt/conda/lib/python3.7/site-packages/skopt/optimizer/optimizer.py:409: UserWarning: The objective has been evaluated at this point before.\n",
      "  warnings.warn(\"The objective has been evaluated \"\n"
     ]
    },
    {
     "name": "stdout",
     "output_type": "stream",
     "text": [
      "[0.14       0.30612245 0.2244898 ]\n",
      "Iteration No: 31 ended. Search finished for the next optimal point.\n",
      "Time taken: 3.0412\n",
      "Function value obtained: -0.2235\n",
      "Current minimum: -0.2297\n",
      "Iteration No: 32 started. Searching for the next optimal point.\n",
      "{'max_features': 1, 'continuous': ('quantile', QuantileTransformer()), 'undersampling': RandomUnderSampler(sampling_strategy=0.2), 'nominal': 'passthrough', 'model': RandomForestClassifier(n_estimators=5)}\n"
     ]
    },
    {
     "name": "stderr",
     "output_type": "stream",
     "text": [
      "/opt/conda/lib/python3.7/site-packages/skopt/optimizer/optimizer.py:409: UserWarning: The objective has been evaluated at this point before.\n",
      "  warnings.warn(\"The objective has been evaluated \"\n"
     ]
    },
    {
     "name": "stdout",
     "output_type": "stream",
     "text": [
      "[0.16       0.30612245 0.12244898]\n",
      "Iteration No: 32 ended. Search finished for the next optimal point.\n",
      "Time taken: 3.1001\n",
      "Function value obtained: -0.1962\n",
      "Current minimum: -0.2297\n",
      "Iteration No: 33 started. Searching for the next optimal point.\n",
      "{'max_features': 1, 'continuous': ('quantile', QuantileTransformer()), 'undersampling': RandomUnderSampler(sampling_strategy=0.2), 'nominal': 'passthrough', 'model': RandomForestClassifier(n_estimators=5)}\n"
     ]
    },
    {
     "name": "stderr",
     "output_type": "stream",
     "text": [
      "/opt/conda/lib/python3.7/site-packages/skopt/optimizer/optimizer.py:409: UserWarning: The objective has been evaluated at this point before.\n",
      "  warnings.warn(\"The objective has been evaluated \"\n"
     ]
    },
    {
     "name": "stdout",
     "output_type": "stream",
     "text": [
      "[0.16       0.2244898  0.18367347]\n",
      "Iteration No: 33 ended. Search finished for the next optimal point.\n",
      "Time taken: 3.3427\n",
      "Function value obtained: -0.1894\n",
      "Current minimum: -0.2297\n",
      "Iteration No: 34 started. Searching for the next optimal point.\n",
      "{'max_features': 1, 'continuous': ('quantile', QuantileTransformer()), 'undersampling': RandomUnderSampler(sampling_strategy=0.2), 'nominal': 'passthrough', 'model': RandomForestClassifier(n_estimators=5)}\n"
     ]
    },
    {
     "name": "stderr",
     "output_type": "stream",
     "text": [
      "/opt/conda/lib/python3.7/site-packages/skopt/optimizer/optimizer.py:409: UserWarning: The objective has been evaluated at this point before.\n",
      "  warnings.warn(\"The objective has been evaluated \"\n"
     ]
    },
    {
     "name": "stdout",
     "output_type": "stream",
     "text": [
      "[0.06       0.18367347 0.16326531]\n",
      "Iteration No: 34 ended. Search finished for the next optimal point.\n",
      "Time taken: 3.4087\n",
      "Function value obtained: -0.1356\n",
      "Current minimum: -0.2297\n",
      "Iteration No: 35 started. Searching for the next optimal point.\n",
      "{'max_features': 1, 'continuous': ('quantile', QuantileTransformer()), 'undersampling': RandomUnderSampler(sampling_strategy=0.2), 'nominal': 'passthrough', 'model': RandomForestClassifier(n_estimators=5)}\n"
     ]
    },
    {
     "name": "stderr",
     "output_type": "stream",
     "text": [
      "/opt/conda/lib/python3.7/site-packages/skopt/optimizer/optimizer.py:409: UserWarning: The objective has been evaluated at this point before.\n",
      "  warnings.warn(\"The objective has been evaluated \"\n"
     ]
    },
    {
     "name": "stdout",
     "output_type": "stream",
     "text": [
      "[0.18       0.20408163 0.2244898 ]\n",
      "Iteration No: 35 ended. Search finished for the next optimal point.\n",
      "Time taken: 3.2384\n",
      "Function value obtained: -0.2029\n",
      "Current minimum: -0.2297\n",
      "Iteration No: 36 started. Searching for the next optimal point.\n",
      "{'max_features': 1, 'continuous': ('quantile', QuantileTransformer()), 'undersampling': RandomUnderSampler(sampling_strategy=0.2), 'nominal': 'passthrough', 'model': RandomForestClassifier(n_estimators=5)}\n"
     ]
    },
    {
     "name": "stderr",
     "output_type": "stream",
     "text": [
      "/opt/conda/lib/python3.7/site-packages/skopt/optimizer/optimizer.py:409: UserWarning: The objective has been evaluated at this point before.\n",
      "  warnings.warn(\"The objective has been evaluated \"\n"
     ]
    },
    {
     "name": "stdout",
     "output_type": "stream",
     "text": [
      "[0.14       0.28571429 0.18367347]\n",
      "Iteration No: 36 ended. Search finished for the next optimal point.\n",
      "Time taken: 3.0792\n",
      "Function value obtained: -0.2031\n",
      "Current minimum: -0.2297\n",
      "Iteration No: 37 started. Searching for the next optimal point.\n",
      "{'max_features': 1, 'continuous': ('quantile', QuantileTransformer()), 'undersampling': RandomUnderSampler(sampling_strategy=0.2), 'nominal': 'passthrough', 'model': RandomForestClassifier(n_estimators=5)}\n"
     ]
    },
    {
     "name": "stderr",
     "output_type": "stream",
     "text": [
      "/opt/conda/lib/python3.7/site-packages/skopt/optimizer/optimizer.py:409: UserWarning: The objective has been evaluated at this point before.\n",
      "  warnings.warn(\"The objective has been evaluated \"\n"
     ]
    },
    {
     "name": "stdout",
     "output_type": "stream",
     "text": [
      "[0.1        0.28571429 0.2244898 ]\n",
      "Iteration No: 37 ended. Search finished for the next optimal point.\n",
      "Time taken: 2.8845\n",
      "Function value obtained: -0.2034\n",
      "Current minimum: -0.2297\n",
      "Iteration No: 38 started. Searching for the next optimal point.\n",
      "{'max_features': 1, 'continuous': ('quantile', QuantileTransformer()), 'undersampling': RandomUnderSampler(sampling_strategy=0.2), 'nominal': 'passthrough', 'model': RandomForestClassifier(n_estimators=5)}\n"
     ]
    },
    {
     "name": "stderr",
     "output_type": "stream",
     "text": [
      "/opt/conda/lib/python3.7/site-packages/skopt/optimizer/optimizer.py:409: UserWarning: The objective has been evaluated at this point before.\n",
      "  warnings.warn(\"The objective has been evaluated \"\n"
     ]
    },
    {
     "name": "stdout",
     "output_type": "stream",
     "text": [
      "[0.14       0.20408163 0.16326531]\n",
      "Iteration No: 38 ended. Search finished for the next optimal point.\n",
      "Time taken: 3.0082\n",
      "Function value obtained: -0.1691\n",
      "Current minimum: -0.2297\n",
      "Iteration No: 39 started. Searching for the next optimal point.\n",
      "{'max_features': 1, 'continuous': ('quantile', QuantileTransformer()), 'undersampling': RandomUnderSampler(sampling_strategy=0.2), 'nominal': 'passthrough', 'model': RandomForestClassifier(n_estimators=5)}\n"
     ]
    },
    {
     "name": "stderr",
     "output_type": "stream",
     "text": [
      "/opt/conda/lib/python3.7/site-packages/skopt/optimizer/optimizer.py:409: UserWarning: The objective has been evaluated at this point before.\n",
      "  warnings.warn(\"The objective has been evaluated \"\n"
     ]
    },
    {
     "name": "stdout",
     "output_type": "stream",
     "text": [
      "[0.14       0.28571429 0.2244898 ]\n",
      "Iteration No: 39 ended. Search finished for the next optimal point.\n",
      "Time taken: 5.8662\n",
      "Function value obtained: -0.2167\n",
      "Current minimum: -0.2297\n",
      "Iteration No: 40 started. Searching for the next optimal point.\n",
      "{'max_features': 1, 'continuous': ('quantile', QuantileTransformer()), 'undersampling': RandomUnderSampler(sampling_strategy=0.2), 'nominal': 'passthrough', 'model': RandomForestClassifier(n_estimators=5)}\n"
     ]
    },
    {
     "name": "stderr",
     "output_type": "stream",
     "text": [
      "/opt/conda/lib/python3.7/site-packages/skopt/optimizer/optimizer.py:409: UserWarning: The objective has been evaluated at this point before.\n",
      "  warnings.warn(\"The objective has been evaluated \"\n"
     ]
    },
    {
     "name": "stdout",
     "output_type": "stream",
     "text": [
      "[0.2        0.10204082 0.2244898 ]\n",
      "Iteration No: 40 ended. Search finished for the next optimal point.\n",
      "Time taken: 3.4916\n",
      "Function value obtained: -0.1755\n",
      "Current minimum: -0.2297\n",
      "Iteration No: 41 started. Searching for the next optimal point.\n",
      "{'max_features': 1, 'continuous': ('quantile', QuantileTransformer()), 'undersampling': RandomUnderSampler(sampling_strategy=0.2), 'nominal': 'passthrough', 'model': RandomForestClassifier(n_estimators=5)}\n"
     ]
    },
    {
     "name": "stderr",
     "output_type": "stream",
     "text": [
      "/opt/conda/lib/python3.7/site-packages/skopt/optimizer/optimizer.py:409: UserWarning: The objective has been evaluated at this point before.\n",
      "  warnings.warn(\"The objective has been evaluated \"\n"
     ]
    },
    {
     "name": "stdout",
     "output_type": "stream",
     "text": [
      "[0.14       0.26530612 0.16326531]\n",
      "Iteration No: 41 ended. Search finished for the next optimal point.\n",
      "Time taken: 3.5849\n",
      "Function value obtained: -0.1895\n",
      "Current minimum: -0.2297\n",
      "Iteration No: 42 started. Searching for the next optimal point.\n",
      "{'max_features': 1, 'continuous': ('quantile', QuantileTransformer()), 'undersampling': RandomUnderSampler(sampling_strategy=0.2), 'nominal': 'passthrough', 'model': RandomForestClassifier(n_estimators=5)}\n"
     ]
    },
    {
     "name": "stderr",
     "output_type": "stream",
     "text": [
      "/opt/conda/lib/python3.7/site-packages/skopt/optimizer/optimizer.py:409: UserWarning: The objective has been evaluated at this point before.\n",
      "  warnings.warn(\"The objective has been evaluated \"\n"
     ]
    },
    {
     "name": "stdout",
     "output_type": "stream",
     "text": [
      "[0.12       0.34693878 0.16326531]\n",
      "Iteration No: 42 ended. Search finished for the next optimal point.\n",
      "Time taken: 3.3714\n",
      "Function value obtained: -0.2101\n",
      "Current minimum: -0.2297\n",
      "Iteration No: 43 started. Searching for the next optimal point.\n",
      "{'max_features': 1, 'continuous': ('quantile', QuantileTransformer()), 'undersampling': RandomUnderSampler(sampling_strategy=0.2), 'nominal': 'passthrough', 'model': RandomForestClassifier(n_estimators=5)}\n"
     ]
    },
    {
     "name": "stderr",
     "output_type": "stream",
     "text": [
      "/opt/conda/lib/python3.7/site-packages/skopt/optimizer/optimizer.py:409: UserWarning: The objective has been evaluated at this point before.\n",
      "  warnings.warn(\"The objective has been evaluated \"\n"
     ]
    },
    {
     "name": "stdout",
     "output_type": "stream",
     "text": [
      "[0.1        0.18367347 0.20408163]\n",
      "Iteration No: 43 ended. Search finished for the next optimal point.\n",
      "Time taken: 3.1547\n",
      "Function value obtained: -0.1626\n",
      "Current minimum: -0.2297\n",
      "Iteration No: 44 started. Searching for the next optimal point.\n",
      "{'max_features': 1, 'continuous': ('quantile', QuantileTransformer()), 'undersampling': RandomUnderSampler(sampling_strategy=0.2), 'nominal': 'passthrough', 'model': RandomForestClassifier(n_estimators=5)}\n"
     ]
    },
    {
     "name": "stderr",
     "output_type": "stream",
     "text": [
      "/opt/conda/lib/python3.7/site-packages/skopt/optimizer/optimizer.py:409: UserWarning: The objective has been evaluated at this point before.\n",
      "  warnings.warn(\"The objective has been evaluated \"\n"
     ]
    },
    {
     "name": "stdout",
     "output_type": "stream",
     "text": [
      "[0.16       0.20408163 0.20408163]\n",
      "Iteration No: 44 ended. Search finished for the next optimal point.\n",
      "Time taken: 3.8759\n",
      "Function value obtained: -0.1894\n",
      "Current minimum: -0.2297\n",
      "Iteration No: 45 started. Searching for the next optimal point.\n",
      "{'max_features': 1, 'continuous': ('quantile', QuantileTransformer()), 'undersampling': RandomUnderSampler(sampling_strategy=0.2), 'nominal': 'passthrough', 'model': RandomForestClassifier(n_estimators=5)}\n"
     ]
    },
    {
     "name": "stderr",
     "output_type": "stream",
     "text": [
      "/opt/conda/lib/python3.7/site-packages/skopt/optimizer/optimizer.py:409: UserWarning: The objective has been evaluated at this point before.\n",
      "  warnings.warn(\"The objective has been evaluated \"\n"
     ]
    },
    {
     "name": "stdout",
     "output_type": "stream",
     "text": [
      "[0.12       0.2244898  0.20408163]\n",
      "Iteration No: 45 ended. Search finished for the next optimal point.\n",
      "Time taken: 3.6009\n",
      "Function value obtained: -0.1829\n",
      "Current minimum: -0.2297\n",
      "Iteration No: 46 started. Searching for the next optimal point.\n",
      "{'max_features': 1, 'continuous': ('quantile', QuantileTransformer()), 'undersampling': RandomUnderSampler(sampling_strategy=0.2), 'nominal': 'passthrough', 'model': RandomForestClassifier(n_estimators=5)}\n"
     ]
    },
    {
     "name": "stderr",
     "output_type": "stream",
     "text": [
      "/opt/conda/lib/python3.7/site-packages/skopt/optimizer/optimizer.py:409: UserWarning: The objective has been evaluated at this point before.\n",
      "  warnings.warn(\"The objective has been evaluated \"\n"
     ]
    },
    {
     "name": "stdout",
     "output_type": "stream",
     "text": [
      "[0.2        0.2244898  0.16326531]\n",
      "Iteration No: 46 ended. Search finished for the next optimal point.\n",
      "Time taken: 3.7903\n",
      "Function value obtained: -0.1959\n",
      "Current minimum: -0.2297\n",
      "Iteration No: 47 started. Searching for the next optimal point.\n",
      "{'max_features': 1, 'continuous': ('quantile', QuantileTransformer()), 'undersampling': RandomUnderSampler(sampling_strategy=0.2), 'nominal': 'passthrough', 'model': RandomForestClassifier(n_estimators=5)}\n"
     ]
    },
    {
     "name": "stderr",
     "output_type": "stream",
     "text": [
      "/opt/conda/lib/python3.7/site-packages/skopt/optimizer/optimizer.py:409: UserWarning: The objective has been evaluated at this point before.\n",
      "  warnings.warn(\"The objective has been evaluated \"\n"
     ]
    },
    {
     "name": "stdout",
     "output_type": "stream",
     "text": [
      "[0.18       0.24489796 0.16326531]\n",
      "Iteration No: 47 ended. Search finished for the next optimal point.\n",
      "Time taken: 3.3793\n",
      "Function value obtained: -0.1961\n",
      "Current minimum: -0.2297\n",
      "Iteration No: 48 started. Searching for the next optimal point.\n",
      "{'max_features': 1, 'continuous': ('quantile', QuantileTransformer()), 'undersampling': RandomUnderSampler(sampling_strategy=0.2), 'nominal': 'passthrough', 'model': RandomForestClassifier(n_estimators=5)}\n"
     ]
    },
    {
     "name": "stderr",
     "output_type": "stream",
     "text": [
      "/opt/conda/lib/python3.7/site-packages/skopt/optimizer/optimizer.py:409: UserWarning: The objective has been evaluated at this point before.\n",
      "  warnings.warn(\"The objective has been evaluated \"\n"
     ]
    },
    {
     "name": "stdout",
     "output_type": "stream",
     "text": [
      "[0.22       0.24489796 0.26530612]\n",
      "Iteration No: 48 ended. Search finished for the next optimal point.\n",
      "Time taken: 3.7713\n",
      "Function value obtained: -0.2434\n",
      "Current minimum: -0.2434\n",
      "Iteration No: 49 started. Searching for the next optimal point.\n",
      "{'max_features': 1, 'continuous': ('quantile', QuantileTransformer()), 'undersampling': RandomUnderSampler(sampling_strategy=0.2), 'nominal': 'passthrough', 'model': RandomForestClassifier(n_estimators=5)}\n"
     ]
    },
    {
     "name": "stderr",
     "output_type": "stream",
     "text": [
      "/opt/conda/lib/python3.7/site-packages/skopt/optimizer/optimizer.py:409: UserWarning: The objective has been evaluated at this point before.\n",
      "  warnings.warn(\"The objective has been evaluated \"\n"
     ]
    },
    {
     "name": "stdout",
     "output_type": "stream",
     "text": [
      "[0.08       0.20408163 0.16326531]\n",
      "Iteration No: 49 ended. Search finished for the next optimal point.\n",
      "Time taken: 3.8651\n",
      "Function value obtained: -0.1491\n",
      "Current minimum: -0.2434\n",
      "Iteration No: 50 started. Searching for the next optimal point.\n",
      "{'max_features': 1, 'continuous': ('quantile', QuantileTransformer()), 'undersampling': RandomUnderSampler(sampling_strategy=0.2), 'nominal': 'passthrough', 'model': RandomForestClassifier(n_estimators=5)}\n"
     ]
    },
    {
     "name": "stderr",
     "output_type": "stream",
     "text": [
      "/opt/conda/lib/python3.7/site-packages/skopt/optimizer/optimizer.py:409: UserWarning: The objective has been evaluated at this point before.\n",
      "  warnings.warn(\"The objective has been evaluated \"\n"
     ]
    },
    {
     "name": "stdout",
     "output_type": "stream",
     "text": [
      "[0.16       0.20408163 0.20408163]\n",
      "Iteration No: 50 ended. Search finished for the next optimal point.\n",
      "Time taken: 3.5995\n",
      "Function value obtained: -0.1894\n",
      "Current minimum: -0.2434\n"
     ]
    }
   ],
   "source": [
    "\n",
    "gp_results = gp_minimize(objective, space, n_calls=50, n_jobs=1,verbose=True)"
   ]
  },
  {
   "cell_type": "code",
   "execution_count": 20,
   "metadata": {},
   "outputs": [
    {
     "data": {
      "text/plain": [
       "array([-0.24340136, -0.22965986, -0.22353741, -0.21673469, -0.21659864,\n",
       "       -0.21006803, -0.20993197, -0.20340136, -0.20312925, -0.2029932 ,\n",
       "       -0.20285714, -0.19632653, -0.19632653, -0.19619048, -0.19605442,\n",
       "       -0.19605442, -0.19591837, -0.18952381, -0.18938776, -0.18938776,\n",
       "       -0.18938776, -0.18285714, -0.18285714, -0.18272109, -0.17578231,\n",
       "       -0.1755102 , -0.1755102 , -0.16952381, -0.16911565, -0.16258503,\n",
       "       -0.16258503, -0.16231293, -0.15578231, -0.15496599, -0.14911565,\n",
       "       -0.14911565, -0.13564626, -0.13537415, -0.12816327, -0.10789116,\n",
       "       -0.07455782, -0.06081633, -0.05401361, -0.04721088, -0.03401361,\n",
       "       -0.02013605, -0.01346939, -0.00680272, -0.        , -0.        ])"
      ]
     },
     "execution_count": 20,
     "metadata": {},
     "output_type": "execute_result"
    }
   ],
   "source": [
    "gp_results.func_vals[gp_results.func_vals.argsort()]"
   ]
  },
  {
   "cell_type": "code",
   "execution_count": 43,
   "metadata": {},
   "outputs": [
    {
     "data": {
      "text/plain": [
       "[1,\n",
       " ('quantile', QuantileTransformer()),\n",
       " RandomUnderSampler(sampling_strategy=0.2),\n",
       " 'passthrough',\n",
       " RandomForestClassifier(n_estimators=5)]"
      ]
     },
     "execution_count": 43,
     "metadata": {},
     "output_type": "execute_result"
    }
   ],
   "source": [
    "gp_results.x_iters[gp_results.func_vals.argsort()[0]]"
   ]
  },
  {
   "cell_type": "markdown",
   "metadata": {},
   "source": [
    "Model seems insensitve to encoders, I'm going to keep the enocoder for the nominal feautres since they need to be properly handeled"
   ]
  },
  {
   "cell_type": "code",
   "execution_count": 53,
   "metadata": {},
   "outputs": [
    {
     "data": {
      "text/plain": [
       "array([0.57795127, 0.69446615, 0.69353251])"
      ]
     },
     "execution_count": 53,
     "metadata": {},
     "output_type": "execute_result"
    }
   ],
   "source": [
    "# best param\n",
    "# create pipleline\n",
    "# continue features\n",
    "continuous_transformer = Pipeline(steps=[('Robust scaling', preprocessing.RobustScaler())])\n",
    "# ordinal feautres\n",
    "categorical__ordinal_transformer = Pipeline(steps=[('encode', 'passthrough')])\n",
    "# Dummy features\n",
    "dummy_transformer = Pipeline(steps=[('encode', 'passthrough')])\n",
    "# categorical\n",
    "categorical__nominal_transformer = Pipeline(steps=[('encoding', ce.BinaryEncoder())])\n",
    "\n",
    "\n",
    "# put pipelines together\n",
    "preprocessor = ColumnTransformer(\n",
    "    transformers=[\n",
    "        ('ordinal', categorical__ordinal_transformer,col_type['Categorical Ordinal']),\n",
    "        ('continuous', continuous_transformer, col_type['Continuous']),\n",
    "    ('dummy',dummy_transformer, col_type['Dummy']),\n",
    "    ('nominal',categorical__nominal_transformer,col_type['Categorical Nominal'])])\n",
    "\n",
    "# create model\n",
    "us_model = Pipeline(steps=[\n",
    "                      ('preprocessor', preprocessor),\n",
    "    # imbalance class sampler\n",
    "                        ('undersampling', under_sampling.RandomUnderSampler()),\n",
    "    # feature selection using linear model\n",
    "                    ('feature selection', feature_selection.SelectFromModel(ensemble.RandomForestClassifier(),max_features=15,prefit=False)),\n",
    "    # classifier\n",
    "                      ('classifier', XGBClassifier(n_estimators=5,))])\n",
    "\n",
    "model_selection.cross_val_score(us_model, x_train, y_train, cv=model_selection.StratifiedKFold(3), scoring='roc_auc')"
   ]
  },
  {
   "cell_type": "code",
   "execution_count": 54,
   "metadata": {},
   "outputs": [
    {
     "name": "stdout",
     "output_type": "stream",
     "text": [
      "              precision    recall  f1-score   support\n",
      "\n",
      "           0       0.98      0.63      0.76      2010\n",
      "           1       0.04      0.57      0.07        51\n",
      "\n",
      "    accuracy                           0.62      2061\n",
      "   macro avg       0.51      0.60      0.42      2061\n",
      "weighted avg       0.96      0.62      0.75      2061\n",
      "\n"
     ]
    },
    {
     "data": {
      "text/plain": [
       "0.6910008779631256"
      ]
     },
     "execution_count": 54,
     "metadata": {},
     "output_type": "execute_result"
    }
   ],
   "source": [
    "us_model.fit(x_train, y_train)\n",
    "# on model validation sample\n",
    "print(metrics.classification_report(y_validate, us_model.predict(x_validate)))\n",
    "metrics.roc_auc_score(y_validate, us_model.predict_proba(x_validate)[:,1])"
   ]
  },
  {
   "cell_type": "markdown",
   "metadata": {},
   "source": [
    "## look at features that are selected"
   ]
  },
  {
   "cell_type": "code",
   "execution_count": 24,
   "metadata": {},
   "outputs": [
    {
     "data": {
      "text/plain": [
       "array(['continuous__Var4', 'continuous__Var7', 'continuous__Var9',\n",
       "       'continuous__Var13', 'continuous__Var24', 'continuous__Var25',\n",
       "       'continuous__Var55', 'continuous__Var56', 'continuous__Var81',\n",
       "       'continuous__Var82', 'continuous__Var83', 'continuous__Var95',\n",
       "       'continuous__Var130', 'continuous__Var136', 'continuous__Var161'],\n",
       "      dtype='<U18')"
      ]
     },
     "execution_count": 24,
     "metadata": {},
     "output_type": "execute_result"
    }
   ],
   "source": [
    "# extract feature names from pipeline\n",
    "def get_column_names_from_ColumnTransformer(column_transformer):    \n",
    "    col_name = []\n",
    "    for transformer_in_columns in column_transformer.transformers_:#the last transformer is ColumnTransformer's 'remainder'\n",
    "        raw_col_name = transformer_in_columns[2]\n",
    "        methods = transformer_in_columns[0]\n",
    "        if isinstance(transformer_in_columns[1],Pipeline): \n",
    "            transformer = transformer_in_columns[1].steps[-1][1]\n",
    "        else:\n",
    "            transformer = transformer_in_columns[1]\n",
    "        try:\n",
    "            names = transformer.get_feature_names()\n",
    "        except AttributeError: # if no 'get_feature_names' function, use raw column name\n",
    "            names = raw_col_name\n",
    "        if isinstance(names,np.ndarray): # eg.\n",
    "            col_name += [methods + '__'+ str(i) for i in names.tolist()]\n",
    "        elif isinstance(names,list):\n",
    "            col_name += [methods + '__'+ str(i) for i in names]    \n",
    "        elif isinstance(names,str):\n",
    "            col_name.append(methods + '__'+ names)\n",
    "    return col_name\n",
    "cols = get_column_names_from_ColumnTransformer(us_model.named_steps['preprocessor'])\n",
    "a = us_model.named_steps['feature selection']\n",
    "final_cols = np.asarray(cols)[a.get_support(indices=True)]\n",
    "final_cols"
   ]
  },
  {
   "cell_type": "code",
   "execution_count": 25,
   "metadata": {},
   "outputs": [
    {
     "data": {
      "image/png": "[encoded data removed]",
      "text/plain": [
       "<Figure size 432x288 with 1 Axes>"
      ]
     },
     "metadata": {
      "needs_background": "light"
     },
     "output_type": "display_data"
    }
   ],
   "source": [
    "# plot feature improtance\n",
    "ax = plt.bar(final_cols, us_model.named_steps['classifier'].feature_importances_)\n",
    "plt.xticks(rotation=90);"
   ]
  },
  {
   "cell_type": "markdown",
   "metadata": {},
   "source": [
    "no dominant feature"
   ]
  },
  {
   "cell_type": "code",
   "execution_count": 26,
   "metadata": {},
   "outputs": [
    {
     "data": {
      "text/html": [
       "<div>\n",
       "<style scoped>\n",
       "    .dataframe tbody tr th:only-of-type {\n",
       "        vertical-align: middle;\n",
       "    }\n",
       "\n",
       "    .dataframe tbody tr th {\n",
       "        vertical-align: top;\n",
       "    }\n",
       "\n",
       "    .dataframe thead th {\n",
       "        text-align: right;\n",
       "    }\n",
       "</style>\n",
       "<table border=\"1\" class=\"dataframe\">\n",
       "  <thead>\n",
       "    <tr style=\"text-align: right;\">\n",
       "      <th></th>\n",
       "      <th>Var4</th>\n",
       "      <th>Var7</th>\n",
       "      <th>Var9</th>\n",
       "      <th>Var13</th>\n",
       "      <th>Var24</th>\n",
       "      <th>Var25</th>\n",
       "      <th>Var55</th>\n",
       "      <th>Var56</th>\n",
       "      <th>Var81</th>\n",
       "      <th>Var82</th>\n",
       "      <th>Var83</th>\n",
       "      <th>Var95</th>\n",
       "      <th>Var130</th>\n",
       "      <th>Var136</th>\n",
       "      <th>Var161</th>\n",
       "    </tr>\n",
       "  </thead>\n",
       "  <tbody>\n",
       "    <tr>\n",
       "      <th>Var4</th>\n",
       "      <td>1.000000</td>\n",
       "      <td>-0.010410</td>\n",
       "      <td>-0.039027</td>\n",
       "      <td>-0.028028</td>\n",
       "      <td>-0.016645</td>\n",
       "      <td>0.002147</td>\n",
       "      <td>0.054320</td>\n",
       "      <td>0.127854</td>\n",
       "      <td>-0.013011</td>\n",
       "      <td>-0.017458</td>\n",
       "      <td>-0.037693</td>\n",
       "      <td>-0.049473</td>\n",
       "      <td>-0.008091</td>\n",
       "      <td>-0.015061</td>\n",
       "      <td>-0.007736</td>\n",
       "    </tr>\n",
       "    <tr>\n",
       "      <th>Var7</th>\n",
       "      <td>-0.010410</td>\n",
       "      <td>1.000000</td>\n",
       "      <td>-0.002303</td>\n",
       "      <td>0.026294</td>\n",
       "      <td>0.285366</td>\n",
       "      <td>0.323802</td>\n",
       "      <td>0.067834</td>\n",
       "      <td>-0.001558</td>\n",
       "      <td>0.122505</td>\n",
       "      <td>-0.016466</td>\n",
       "      <td>0.268342</td>\n",
       "      <td>-0.009187</td>\n",
       "      <td>-0.073214</td>\n",
       "      <td>-0.001535</td>\n",
       "      <td>0.099869</td>\n",
       "    </tr>\n",
       "    <tr>\n",
       "      <th>Var9</th>\n",
       "      <td>-0.039027</td>\n",
       "      <td>-0.002303</td>\n",
       "      <td>1.000000</td>\n",
       "      <td>-0.086109</td>\n",
       "      <td>0.021636</td>\n",
       "      <td>0.038030</td>\n",
       "      <td>-0.001121</td>\n",
       "      <td>-0.096249</td>\n",
       "      <td>0.185365</td>\n",
       "      <td>0.697390</td>\n",
       "      <td>0.114772</td>\n",
       "      <td>0.576476</td>\n",
       "      <td>0.080775</td>\n",
       "      <td>0.464360</td>\n",
       "      <td>-0.047401</td>\n",
       "    </tr>\n",
       "    <tr>\n",
       "      <th>Var13</th>\n",
       "      <td>-0.028028</td>\n",
       "      <td>0.026294</td>\n",
       "      <td>-0.086109</td>\n",
       "      <td>1.000000</td>\n",
       "      <td>-0.020230</td>\n",
       "      <td>-0.019926</td>\n",
       "      <td>0.003340</td>\n",
       "      <td>0.020946</td>\n",
       "      <td>0.004824</td>\n",
       "      <td>-0.009350</td>\n",
       "      <td>0.013054</td>\n",
       "      <td>-0.030886</td>\n",
       "      <td>-0.012741</td>\n",
       "      <td>0.001996</td>\n",
       "      <td>-0.036859</td>\n",
       "    </tr>\n",
       "    <tr>\n",
       "      <th>Var24</th>\n",
       "      <td>-0.016645</td>\n",
       "      <td>0.285366</td>\n",
       "      <td>0.021636</td>\n",
       "      <td>-0.020230</td>\n",
       "      <td>1.000000</td>\n",
       "      <td>0.456394</td>\n",
       "      <td>0.104868</td>\n",
       "      <td>-0.032611</td>\n",
       "      <td>0.096814</td>\n",
       "      <td>-0.006047</td>\n",
       "      <td>0.337967</td>\n",
       "      <td>0.009702</td>\n",
       "      <td>-0.430574</td>\n",
       "      <td>-0.020175</td>\n",
       "      <td>0.238128</td>\n",
       "    </tr>\n",
       "    <tr>\n",
       "      <th>Var25</th>\n",
       "      <td>0.002147</td>\n",
       "      <td>0.323802</td>\n",
       "      <td>0.038030</td>\n",
       "      <td>-0.019926</td>\n",
       "      <td>0.456394</td>\n",
       "      <td>1.000000</td>\n",
       "      <td>0.068558</td>\n",
       "      <td>-0.058372</td>\n",
       "      <td>0.140101</td>\n",
       "      <td>-0.021810</td>\n",
       "      <td>0.341814</td>\n",
       "      <td>0.005704</td>\n",
       "      <td>-0.108553</td>\n",
       "      <td>-0.005912</td>\n",
       "      <td>0.190764</td>\n",
       "    </tr>\n",
       "    <tr>\n",
       "      <th>Var55</th>\n",
       "      <td>0.054320</td>\n",
       "      <td>0.067834</td>\n",
       "      <td>-0.001121</td>\n",
       "      <td>0.003340</td>\n",
       "      <td>0.104868</td>\n",
       "      <td>0.068558</td>\n",
       "      <td>1.000000</td>\n",
       "      <td>0.004838</td>\n",
       "      <td>0.029484</td>\n",
       "      <td>0.037721</td>\n",
       "      <td>0.073003</td>\n",
       "      <td>0.045340</td>\n",
       "      <td>-0.032695</td>\n",
       "      <td>0.040227</td>\n",
       "      <td>0.047888</td>\n",
       "    </tr>\n",
       "    <tr>\n",
       "      <th>Var56</th>\n",
       "      <td>0.127854</td>\n",
       "      <td>-0.001558</td>\n",
       "      <td>-0.096249</td>\n",
       "      <td>0.020946</td>\n",
       "      <td>-0.032611</td>\n",
       "      <td>-0.058372</td>\n",
       "      <td>0.004838</td>\n",
       "      <td>1.000000</td>\n",
       "      <td>-0.065763</td>\n",
       "      <td>-0.040185</td>\n",
       "      <td>-0.103019</td>\n",
       "      <td>-0.098196</td>\n",
       "      <td>-0.061342</td>\n",
       "      <td>-0.017004</td>\n",
       "      <td>-0.007754</td>\n",
       "    </tr>\n",
       "    <tr>\n",
       "      <th>Var81</th>\n",
       "      <td>-0.013011</td>\n",
       "      <td>0.122505</td>\n",
       "      <td>0.185365</td>\n",
       "      <td>0.004824</td>\n",
       "      <td>0.096814</td>\n",
       "      <td>0.140101</td>\n",
       "      <td>0.029484</td>\n",
       "      <td>-0.065763</td>\n",
       "      <td>1.000000</td>\n",
       "      <td>0.218606</td>\n",
       "      <td>0.150157</td>\n",
       "      <td>0.170753</td>\n",
       "      <td>-0.010851</td>\n",
       "      <td>0.133446</td>\n",
       "      <td>-0.001530</td>\n",
       "    </tr>\n",
       "    <tr>\n",
       "      <th>Var82</th>\n",
       "      <td>-0.017458</td>\n",
       "      <td>-0.016466</td>\n",
       "      <td>0.697390</td>\n",
       "      <td>-0.009350</td>\n",
       "      <td>-0.006047</td>\n",
       "      <td>-0.021810</td>\n",
       "      <td>0.037721</td>\n",
       "      <td>-0.040185</td>\n",
       "      <td>0.218606</td>\n",
       "      <td>1.000000</td>\n",
       "      <td>0.062804</td>\n",
       "      <td>0.543642</td>\n",
       "      <td>0.042881</td>\n",
       "      <td>0.528337</td>\n",
       "      <td>-0.077916</td>\n",
       "    </tr>\n",
       "    <tr>\n",
       "      <th>Var83</th>\n",
       "      <td>-0.037693</td>\n",
       "      <td>0.268342</td>\n",
       "      <td>0.114772</td>\n",
       "      <td>0.013054</td>\n",
       "      <td>0.337967</td>\n",
       "      <td>0.341814</td>\n",
       "      <td>0.073003</td>\n",
       "      <td>-0.103019</td>\n",
       "      <td>0.150157</td>\n",
       "      <td>0.062804</td>\n",
       "      <td>1.000000</td>\n",
       "      <td>0.104014</td>\n",
       "      <td>0.250939</td>\n",
       "      <td>0.041772</td>\n",
       "      <td>0.060245</td>\n",
       "    </tr>\n",
       "    <tr>\n",
       "      <th>Var95</th>\n",
       "      <td>-0.049473</td>\n",
       "      <td>-0.009187</td>\n",
       "      <td>0.576476</td>\n",
       "      <td>-0.030886</td>\n",
       "      <td>0.009702</td>\n",
       "      <td>0.005704</td>\n",
       "      <td>0.045340</td>\n",
       "      <td>-0.098196</td>\n",
       "      <td>0.170753</td>\n",
       "      <td>0.543642</td>\n",
       "      <td>0.104014</td>\n",
       "      <td>1.000000</td>\n",
       "      <td>0.085154</td>\n",
       "      <td>0.434617</td>\n",
       "      <td>-0.010864</td>\n",
       "    </tr>\n",
       "    <tr>\n",
       "      <th>Var130</th>\n",
       "      <td>-0.008091</td>\n",
       "      <td>-0.073214</td>\n",
       "      <td>0.080775</td>\n",
       "      <td>-0.012741</td>\n",
       "      <td>-0.430574</td>\n",
       "      <td>-0.108553</td>\n",
       "      <td>-0.032695</td>\n",
       "      <td>-0.061342</td>\n",
       "      <td>-0.010851</td>\n",
       "      <td>0.042881</td>\n",
       "      <td>0.250939</td>\n",
       "      <td>0.085154</td>\n",
       "      <td>1.000000</td>\n",
       "      <td>0.030539</td>\n",
       "      <td>-0.106468</td>\n",
       "    </tr>\n",
       "    <tr>\n",
       "      <th>Var136</th>\n",
       "      <td>-0.015061</td>\n",
       "      <td>-0.001535</td>\n",
       "      <td>0.464360</td>\n",
       "      <td>0.001996</td>\n",
       "      <td>-0.020175</td>\n",
       "      <td>-0.005912</td>\n",
       "      <td>0.040227</td>\n",
       "      <td>-0.017004</td>\n",
       "      <td>0.133446</td>\n",
       "      <td>0.528337</td>\n",
       "      <td>0.041772</td>\n",
       "      <td>0.434617</td>\n",
       "      <td>0.030539</td>\n",
       "      <td>1.000000</td>\n",
       "      <td>-0.066745</td>\n",
       "    </tr>\n",
       "    <tr>\n",
       "      <th>Var161</th>\n",
       "      <td>-0.007736</td>\n",
       "      <td>0.099869</td>\n",
       "      <td>-0.047401</td>\n",
       "      <td>-0.036859</td>\n",
       "      <td>0.238128</td>\n",
       "      <td>0.190764</td>\n",
       "      <td>0.047888</td>\n",
       "      <td>-0.007754</td>\n",
       "      <td>-0.001530</td>\n",
       "      <td>-0.077916</td>\n",
       "      <td>0.060245</td>\n",
       "      <td>-0.010864</td>\n",
       "      <td>-0.106468</td>\n",
       "      <td>-0.066745</td>\n",
       "      <td>1.000000</td>\n",
       "    </tr>\n",
       "  </tbody>\n",
       "</table>\n",
       "</div>"
      ],
      "text/plain": [
       "            Var4      Var7      Var9     Var13     Var24     Var25     Var55  \\\n",
       "Var4    1.000000 -0.010410 -0.039027 -0.028028 -0.016645  0.002147  0.054320   \n",
       "Var7   -0.010410  1.000000 -0.002303  0.026294  0.285366  0.323802  0.067834   \n",
       "Var9   -0.039027 -0.002303  1.000000 -0.086109  0.021636  0.038030 -0.001121   \n",
       "Var13  -0.028028  0.026294 -0.086109  1.000000 -0.020230 -0.019926  0.003340   \n",
       "Var24  -0.016645  0.285366  0.021636 -0.020230  1.000000  0.456394  0.104868   \n",
       "Var25   0.002147  0.323802  0.038030 -0.019926  0.456394  1.000000  0.068558   \n",
       "Var55   0.054320  0.067834 -0.001121  0.003340  0.104868  0.068558  1.000000   \n",
       "Var56   0.127854 -0.001558 -0.096249  0.020946 -0.032611 -0.058372  0.004838   \n",
       "Var81  -0.013011  0.122505  0.185365  0.004824  0.096814  0.140101  0.029484   \n",
       "Var82  -0.017458 -0.016466  0.697390 -0.009350 -0.006047 -0.021810  0.037721   \n",
       "Var83  -0.037693  0.268342  0.114772  0.013054  0.337967  0.341814  0.073003   \n",
       "Var95  -0.049473 -0.009187  0.576476 -0.030886  0.009702  0.005704  0.045340   \n",
       "Var130 -0.008091 -0.073214  0.080775 -0.012741 -0.430574 -0.108553 -0.032695   \n",
       "Var136 -0.015061 -0.001535  0.464360  0.001996 -0.020175 -0.005912  0.040227   \n",
       "Var161 -0.007736  0.099869 -0.047401 -0.036859  0.238128  0.190764  0.047888   \n",
       "\n",
       "           Var56     Var81     Var82     Var83     Var95    Var130    Var136  \\\n",
       "Var4    0.127854 -0.013011 -0.017458 -0.037693 -0.049473 -0.008091 -0.015061   \n",
       "Var7   -0.001558  0.122505 -0.016466  0.268342 -0.009187 -0.073214 -0.001535   \n",
       "Var9   -0.096249  0.185365  0.697390  0.114772  0.576476  0.080775  0.464360   \n",
       "Var13   0.020946  0.004824 -0.009350  0.013054 -0.030886 -0.012741  0.001996   \n",
       "Var24  -0.032611  0.096814 -0.006047  0.337967  0.009702 -0.430574 -0.020175   \n",
       "Var25  -0.058372  0.140101 -0.021810  0.341814  0.005704 -0.108553 -0.005912   \n",
       "Var55   0.004838  0.029484  0.037721  0.073003  0.045340 -0.032695  0.040227   \n",
       "Var56   1.000000 -0.065763 -0.040185 -0.103019 -0.098196 -0.061342 -0.017004   \n",
       "Var81  -0.065763  1.000000  0.218606  0.150157  0.170753 -0.010851  0.133446   \n",
       "Var82  -0.040185  0.218606  1.000000  0.062804  0.543642  0.042881  0.528337   \n",
       "Var83  -0.103019  0.150157  0.062804  1.000000  0.104014  0.250939  0.041772   \n",
       "Var95  -0.098196  0.170753  0.543642  0.104014  1.000000  0.085154  0.434617   \n",
       "Var130 -0.061342 -0.010851  0.042881  0.250939  0.085154  1.000000  0.030539   \n",
       "Var136 -0.017004  0.133446  0.528337  0.041772  0.434617  0.030539  1.000000   \n",
       "Var161 -0.007754 -0.001530 -0.077916  0.060245 -0.010864 -0.106468 -0.066745   \n",
       "\n",
       "          Var161  \n",
       "Var4   -0.007736  \n",
       "Var7    0.099869  \n",
       "Var9   -0.047401  \n",
       "Var13  -0.036859  \n",
       "Var24   0.238128  \n",
       "Var25   0.190764  \n",
       "Var55   0.047888  \n",
       "Var56  -0.007754  \n",
       "Var81  -0.001530  \n",
       "Var82  -0.077916  \n",
       "Var83   0.060245  \n",
       "Var95  -0.010864  \n",
       "Var130 -0.106468  \n",
       "Var136 -0.066745  \n",
       "Var161  1.000000  "
      ]
     },
     "execution_count": 26,
     "metadata": {},
     "output_type": "execute_result"
    }
   ],
   "source": [
    "x_train[[i.split('__')[1] for i in final_cols]].corr()"
   ]
  },
  {
   "cell_type": "code",
   "execution_count": 27,
   "metadata": {},
   "outputs": [
    {
     "data": {
      "text/plain": [
       "Text(0, 0.5, 'Loans')"
      ]
     },
     "execution_count": 27,
     "metadata": {},
     "output_type": "execute_result"
    },
    {
     "data": {
      "image/png": "[encoded data removed]",
      "text/plain": [
       "<Figure size 432x288 with 1 Axes>"
      ]
     },
     "metadata": {
      "needs_background": "light"
     },
     "output_type": "display_data"
    }
   ],
   "source": [
    "# plot pob distribution\n",
    "plt.hist(us_model.predict_proba(x_validate)[:,1], bins=np.linspace(0,1));\n",
    "plt.xlabel('Probablity of default')\n",
    "plt.ylabel('Loans')"
   ]
  },
  {
   "cell_type": "markdown",
   "metadata": {},
   "source": [
    "I may need to recalibrate the probablities "
   ]
  },
  {
   "cell_type": "code",
   "execution_count": 28,
   "metadata": {},
   "outputs": [
    {
     "data": {
      "text/plain": [
       "<matplotlib.legend.Legend at 0x7fc4e6287ad0>"
      ]
     },
     "execution_count": 28,
     "metadata": {},
     "output_type": "execute_result"
    },
    {
     "data": {
      "image/png": "[encoded data removed]",
      "text/plain": [
       "<Figure size 576x576 with 1 Axes>"
      ]
     },
     "metadata": {
      "needs_background": "light"
     },
     "output_type": "display_data"
    }
   ],
   "source": [
    "# Look at calibration of probs\n",
    "fig,ax = plt.subplots(figsize=(8,8))\n",
    "prob_true,prob_pred = calibration.calibration_curve(y_validate, us_model.predict_proba(x_validate)[:,1],strategy='quantile',n_bins=10)\n",
    "ax.plot(prob_true, prob_pred,'.',label='model predictions')\n",
    "ax.plot(np.linspace(0,1), np.linspace(0,1), 'r--', label='Ideal')\n",
    "#ax.set_xlim((0,.2))\n",
    "#ax.set_ylim((0,.2))\n",
    "ax.set_xlabel('Predicted Probability of default ')\n",
    "ax.set_ylabel('Observed Probability of default')\n",
    "plt.legend()"
   ]
  },
  {
   "cell_type": "markdown",
   "metadata": {},
   "source": [
    "Model tends to over under estimate the probablity of default"
   ]
  },
  {
   "cell_type": "markdown",
   "metadata": {},
   "source": [
    "## check for overfitting"
   ]
  },
  {
   "cell_type": "code",
   "execution_count": 29,
   "metadata": {},
   "outputs": [],
   "source": [
    "# make learning curves\n",
    "\n",
    "train_sizes, train_scores, test_scores = model_selection.learning_curve(estimator=us_model,\n",
    "                                                        X=x_train,\n",
    "                                                        y=y_train,n_jobs=1,\n",
    "                                                        train_sizes=np.linspace(0.3, 1., 5),\n",
    "                                                        cv=model_selection.StratifiedKFold(3),\n",
    "                                                        scoring=metrics.make_scorer(metrics.recall_score))\n",
    "\n",
    "\n",
    "train_mean = np.mean(train_scores, axis=1)\n",
    "train_std = np.std(train_scores, axis=1)\n",
    "test_mean = np.mean(test_scores, axis=1)\n",
    "test_std = np.std(test_scores, axis=1)"
   ]
  },
  {
   "cell_type": "code",
   "execution_count": 30,
   "metadata": {},
   "outputs": [
    {
     "data": {
      "image/png": "[encoded data removed]",
      "text/plain": [
       "<Figure size 432x288 with 1 Axes>"
      ]
     },
     "metadata": {
      "needs_background": "light"
     },
     "output_type": "display_data"
    }
   ],
   "source": [
    "plt.plot(train_sizes, train_mean, color='blue', linestyle='--', marker='s', markersize=5, label='training Recall')\n",
    "plt.fill_between(train_sizes, train_mean + train_std, train_mean - train_std,alpha=0.15, color='blue')\n",
    "plt.plot(train_sizes, test_mean, color='purple', linestyle='--', marker='s', markersize=5, label='validation Recall')\n",
    "plt.fill_between(train_sizes, test_mean + test_std, test_mean - test_std, alpha=0.15, color='red')\n",
    "plt.grid()\n",
    "plt.xlabel('Number of training samples')\n",
    "plt.ylabel('Recall')\n",
    "plt.legend(loc='upper right')\n",
    "#plt.ylim([0.8, 1.0])\n",
    "plt.show()\n"
   ]
  },
  {
   "cell_type": "markdown",
   "metadata": {},
   "source": [
    "## Tune classifyer params"
   ]
  },
  {
   "cell_type": "code",
   "execution_count": null,
   "metadata": {},
   "outputs": [],
   "source": []
  },
  {
   "cell_type": "code",
   "execution_count": null,
   "metadata": {},
   "outputs": [],
   "source": []
  },
  {
   "cell_type": "markdown",
   "metadata": {},
   "source": [
    "# Outlier detection model\n",
    "\n",
    "The class balance is so sevier that outlier detection may work better"
   ]
  },
  {
   "cell_type": "code",
   "execution_count": 44,
   "metadata": {},
   "outputs": [
    {
     "data": {
      "text/plain": [
       "array([0.48745898, 0.51132039, 0.50011671])"
      ]
     },
     "execution_count": 44,
     "metadata": {},
     "output_type": "execute_result"
    }
   ],
   "source": [
    "# best param\n",
    "# create pipleline\n",
    "# continue features\n",
    "continuous_transformer = Pipeline(steps=[('quantile', preprocessing.QuantileTransformer())])\n",
    "# ordinal feautres\n",
    "categorical__ordinal_transformer = Pipeline(steps=[('encode', 'passthrough')])\n",
    "# Dummy features\n",
    "dummy_transformer = Pipeline(steps=[('encode', 'passthrough')])\n",
    "# categorical\n",
    "categorical__nominal_transformer = Pipeline(steps=[('encoding', ce.BinaryEncoder())])\n",
    "\n",
    "\n",
    "# put pipelines together\n",
    "preprocessor = ColumnTransformer(\n",
    "    transformers=[\n",
    "        ('ordinal', categorical__ordinal_transformer,col_type['Categorical Ordinal']),\n",
    "        ('continuous', continuous_transformer, col_type['Continuous']),\n",
    "    ('dummy',dummy_transformer, col_type['Dummy']),\n",
    "    ('nominal',categorical__nominal_transformer,col_type['Categorical Nominal'])])\n",
    "\n",
    "# create model\n",
    "outlier_model = Pipeline(steps=[\n",
    "                      ('preprocessor', preprocessor),\n",
    "    # feature selection using linear model\n",
    "                    ('feature selection', feature_selection.SelectFromModel(ensemble.RandomForestClassifier(),max_features=15,prefit=False)),\n",
    "    # classifier\n",
    "                      ('classifier', ensemble.IsolationForest(n_estimators=10,bootstrap=True,contamination=0.025))])\n",
    "\n",
    "model_selection.cross_val_score(outlier_model, x_train, y_train, cv=model_selection.StratifiedKFold(3), scoring='roc_auc')"
   ]
  },
  {
   "cell_type": "code",
   "execution_count": 45,
   "metadata": {},
   "outputs": [
    {
     "name": "stdout",
     "output_type": "stream",
     "text": [
      "              precision    recall  f1-score   support\n",
      "\n",
      "           0       0.98      0.97      0.97      2010\n",
      "           1       0.05      0.06      0.06        51\n",
      "\n",
      "    accuracy                           0.95      2061\n",
      "   macro avg       0.51      0.52      0.52      2061\n",
      "weighted avg       0.95      0.95      0.95      2061\n",
      "\n"
     ]
    },
    {
     "data": {
      "text/plain": [
       "0.058823529411764705"
      ]
     },
     "execution_count": 45,
     "metadata": {},
     "output_type": "execute_result"
    }
   ],
   "source": [
    "outlier_model.fit(x_train, y_train)\n",
    "# on model validation sample\n",
    "print(metrics.classification_report(y_validate, np.int64((outlier_model.predict(x_validate) +1)/2 == 0))) # turn outlires into classes\n",
    "metrics.recall_score(y_validate, np.int64((outlier_model.predict(x_validate) +1)/2 == 0))"
   ]
  },
  {
   "cell_type": "code",
   "execution_count": 46,
   "metadata": {},
   "outputs": [
    {
     "data": {
      "text/plain": [
       "(array([  1.,  15.,  55., 118., 264., 464., 528., 423., 164.,  29.]),\n",
       " array([-0.66060501, -0.63614995, -0.61169489, -0.58723983, -0.56278477,\n",
       "        -0.5383297 , -0.51387464, -0.48941958, -0.46496452, -0.44050946,\n",
       "        -0.41605439]),\n",
       " <a list of 10 Patch objects>)"
      ]
     },
     "execution_count": 46,
     "metadata": {},
     "output_type": "execute_result"
    },
    {
     "data": {
      "image/png": "[encoded data removed]",
      "text/plain": [
       "<Figure size 432x288 with 1 Axes>"
      ]
     },
     "metadata": {
      "needs_background": "light"
     },
     "output_type": "display_data"
    }
   ],
   "source": [
    "plt.hist(outlier_model.score_samples(x_validate))"
   ]
  },
  {
   "cell_type": "markdown",
   "metadata": {},
   "source": [
    "# try to turn the scores into probabilites"
   ]
  },
  {
   "cell_type": "code",
   "execution_count": 47,
   "metadata": {},
   "outputs": [
    {
     "data": {
      "text/plain": [
       "0.5754511754950736"
      ]
     },
     "execution_count": 47,
     "metadata": {},
     "output_type": "execute_result"
    }
   ],
   "source": [
    "us = under_sampling.RandomUnderSampler()\n",
    "x,y = us.fit_resample(outlier_model.score_samples(x_train).reshape(-1,1), y_train)\n",
    "cal = calibration.CalibratedClassifierCV(method='isotonic').fit(x, y)\n",
    "metrics.roc_auc_score(y_validate, cal.predict_proba(outlier_model.score_samples(x_validate).reshape(-1,1))[:,1])"
   ]
  },
  {
   "cell_type": "code",
   "execution_count": 48,
   "metadata": {},
   "outputs": [
    {
     "data": {
      "text/plain": [
       "Text(0, 0.5, 'Loans')"
      ]
     },
     "execution_count": 48,
     "metadata": {},
     "output_type": "execute_result"
    },
    {
     "data": {
      "image/png": "[encoded data removed]",
      "text/plain": [
       "<Figure size 432x288 with 1 Axes>"
      ]
     },
     "metadata": {
      "needs_background": "light"
     },
     "output_type": "display_data"
    }
   ],
   "source": [
    "plt.hist(cal.predict_proba(outlier_model.score_samples(x_validate).reshape(-1,1))[:,1], bins=50);\n",
    "plt.xlabel('Probablity of Default')\n",
    "plt.ylabel('Loans')"
   ]
  },
  {
   "cell_type": "markdown",
   "metadata": {},
   "source": [
    "Doesn't seem like recalibrating the scores worked"
   ]
  },
  {
   "cell_type": "markdown",
   "metadata": {},
   "source": [
    "# Descide which model to use, using out of sample data set"
   ]
  },
  {
   "cell_type": "code",
   "execution_count": 49,
   "metadata": {},
   "outputs": [],
   "source": [
    "# create data set\n",
    "x_outsample = all_outsample_df[all_cols]\n",
    "y_outsample = all_outsample_df['Target']"
   ]
  },
  {
   "cell_type": "code",
   "execution_count": 55,
   "metadata": {},
   "outputs": [
    {
     "data": {
      "text/plain": [
       "(0.21951219512195122, 0.613468447624148)"
      ]
     },
     "execution_count": 55,
     "metadata": {},
     "output_type": "execute_result"
    }
   ],
   "source": [
    "# best guess model\n",
    "metrics.recall_score(y_outsample, benchmark_model.predict(x_outsample)),metrics.roc_auc_score(y_outsample, benchmark_model.predict_proba(x_outsample)[:,1])"
   ]
  },
  {
   "cell_type": "code",
   "execution_count": 56,
   "metadata": {},
   "outputs": [
    {
     "data": {
      "text/plain": [
       "(0.36585365853658536, 0.5336438223687289)"
      ]
     },
     "execution_count": 56,
     "metadata": {},
     "output_type": "execute_result"
    }
   ],
   "source": [
    "# hyper paramter tuned model\n",
    "metrics.recall_score(y_outsample, us_model.predict(x_outsample)),metrics.roc_auc_score(y_outsample, us_model.predict_proba(x_outsample)[:,1])"
   ]
  },
  {
   "cell_type": "code",
   "execution_count": 52,
   "metadata": {},
   "outputs": [
    {
     "data": {
      "text/plain": [
       "0.04878048780487805"
      ]
     },
     "execution_count": 52,
     "metadata": {},
     "output_type": "execute_result"
    }
   ],
   "source": [
    "# outliers model\n",
    "metrics.recall_score(y_outsample, np.int64((outlier_model.predict(x_outsample) +1)/2 == 0))"
   ]
  },
  {
   "cell_type": "markdown",
   "metadata": {},
   "source": [
    "The hyper paramter tuned model has the best recall, So that is the chosen model."
   ]
  },
  {
   "cell_type": "code",
   "execution_count": 61,
   "metadata": {},
   "outputs": [
    {
     "name": "stderr",
     "output_type": "stream",
     "text": [
      "/opt/conda/lib/python3.7/site-packages/sklearn/compose/_column_transformer.py:440: FutureWarning: Given feature/column names or counts do not match the ones for the data given during fit. This will fail from v0.24.\n",
      "  FutureWarning)\n",
      "/opt/conda/lib/python3.7/site-packages/sklearn/compose/_column_transformer.py:440: FutureWarning: Given feature/column names or counts do not match the ones for the data given during fit. This will fail from v0.24.\n",
      "  FutureWarning)\n"
     ]
    },
    {
     "data": {
      "text/plain": [
       "<matplotlib.legend.Legend at 0x7fc4bc59fc90>"
      ]
     },
     "execution_count": 61,
     "metadata": {},
     "output_type": "execute_result"
    },
    {
     "data": {
      "image/png": "[encoded data removed]",
      "text/plain": [
       "<Figure size 432x288 with 1 Axes>"
      ]
     },
     "metadata": {
      "needs_background": "light"
     },
     "output_type": "display_data"
    }
   ],
   "source": [
    "fpr,tpr, thresholds = metrics.roc_curve(y_outsample, us_model.predict_proba(x_outsample)[:,1])\n",
    "plt.plot(fpr, tpr)\n",
    "fpr,tpr, thresholds = metrics.roc_curve(y_outsample, benchmark_model.predict_proba(x_outsample)[:,1])\n",
    "plt.plot(fpr, tpr)\n",
    "fpr,tpr, thresholds = metrics.roc_curve(y_outsample,cal.predict_proba(outlier_model.score_samples(x_outsample).reshape(-1,1))[:,1])\n",
    "plt.plot(fpr, tpr)\n",
    "plt.plot(np.linspace(0,1), np.linspace(0,1), 'r--')\n",
    "plt.xlabel('false positive rate')\n",
    "plt.ylabel('true positive rate')\n",
    "plt.legend(('Hyper Param Model','Base Model','Outlier Model', 'Random'))"
   ]
  },
  {
   "cell_type": "code",
   "execution_count": 64,
   "metadata": {},
   "outputs": [
    {
     "name": "stderr",
     "output_type": "stream",
     "text": [
      "/opt/conda/lib/python3.7/site-packages/sklearn/compose/_column_transformer.py:440: FutureWarning: Given feature/column names or counts do not match the ones for the data given during fit. This will fail from v0.24.\n",
      "  FutureWarning)\n",
      "/opt/conda/lib/python3.7/site-packages/ipykernel_launcher.py:2: SettingWithCopyWarning: \n",
      "A value is trying to be set on a copy of a slice from a DataFrame.\n",
      "Try using .loc[row_indexer,col_indexer] = value instead\n",
      "\n",
      "See the caveats in the documentation: https://pandas.pydata.org/pandas-docs/stable/user_guide/indexing.html#returning-a-view-versus-a-copy\n",
      "  \n"
     ]
    }
   ],
   "source": [
    "# output predictions for OS data\n",
    "x_outsample['probablity of default'] = benchmark_model.predict_proba(x_outsample)[:,1]\n",
    "x_outsample['probablity of default'].to_csv('../artifacts/predictions_Tss_v1.csv')"
   ]
  },
  {
   "cell_type": "code",
   "execution_count": 63,
   "metadata": {},
   "outputs": [
    {
     "data": {
      "text/plain": [
       "Text(0.5, 1.0, 'Model 1')"
      ]
     },
     "execution_count": 63,
     "metadata": {},
     "output_type": "execute_result"
    },
    {
     "data": {
      "image/png": "[encoded data removed]",
      "text/plain": [
       "<Figure size 432x288 with 2 Axes>"
      ]
     },
     "metadata": {
      "needs_background": "light"
     },
     "output_type": "display_data"
    }
   ],
   "source": [
    "# confusion matrix\n",
    "test_results = metrics.confusion_matrix(y_outsample, x_outsample['probablity of default']>.4,normalize='all')\n",
    "sns.heatmap(test_results*100, robust=True, annot=True,fmt='3.1f')\n",
    "plt.xlabel('predicted default label')\n",
    "plt.ylabel('true default label')\n",
    "plt.title('Model 1')"
   ]
  },
  {
   "cell_type": "code",
   "execution_count": null,
   "metadata": {},
   "outputs": [],
   "source": []
  }
 ],
 "metadata": {
  "kernelspec": {
   "display_name": "Python 3",
   "language": "python",
   "name": "python3"
  },
  "language_info": {
   "codemirror_mode": {
    "name": "ipython",
    "version": 3
   },
   "file_extension": ".py",
   "mimetype": "text/x-python",
   "name": "python",
   "nbconvert_exporter": "python",
   "pygments_lexer": "ipython3",
   "version": "3.7.6"
  }
 },
 "nbformat": 4,
 "nbformat_minor": 4
}
